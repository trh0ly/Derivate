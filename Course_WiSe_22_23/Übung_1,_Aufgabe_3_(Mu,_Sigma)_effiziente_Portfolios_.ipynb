{
  "nbformat": 4,
  "nbformat_minor": 0,
  "metadata": {
    "kernelspec": {
      "display_name": "Python 3",
      "language": "python",
      "name": "python3"
    },
    "language_info": {
      "codemirror_mode": {
        "name": "ipython",
        "version": 3
      },
      "file_extension": ".py",
      "mimetype": "text/x-python",
      "name": "python",
      "nbconvert_exporter": "python",
      "pygments_lexer": "ipython3",
      "version": "3.8.5"
    },
    "colab": {
      "provenance": []
    }
  },
  "cells": [
    {
      "cell_type": "markdown",
      "metadata": {
        "id": "UxSheB0KsdPc"
      },
      "source": [
        "# Übung 1, Aufgabe 3: $\\left(\\mu,\\sigma\\right)$-effiziente Portfolios\n",
        "## Import der Programmbibliotheken"
      ]
    },
    {
      "cell_type": "code",
      "metadata": {
        "id": "KWInngsJsdPo"
      },
      "source": [
        "%matplotlib inline\n",
        "import matplotlib.pyplot as plt # Darstellung von Grafiken\n",
        "import scipy.optimize as sco # Zur Optimierung von Zielfunktionen\n",
        "import pandas as pd # Einlesen, verwalten, modifizieren von Daten\n",
        "import numpy as np # Ausführung mathematischer Operationen\n",
        "import random # Generator für (Pseudo-)Zufallszahlen\n",
        "import math # Ausführung mathematischer Operationen\n",
        "import os # Systembefehle"
      ],
      "execution_count": null,
      "outputs": []
    },
    {
      "cell_type": "code",
      "metadata": {
        "id": "8t1bEo1CsdPt"
      },
      "source": [
        "# Sicherstellung Replizierbarkeit\n",
        "seed = 42\n",
        "os.environ['PYTHONHASHSEED'] = str(seed)\n",
        "random.seed(seed)\n",
        "np.random.seed(seed)\n",
        "\n",
        "# Grafikeinstellungen\n",
        "plt.rcParams['figure.figsize'] = (8, 5)\n",
        "plt.rcParams['xtick.labelsize'] = 12\n",
        "plt.rcParams['ytick.labelsize'] = 12\n",
        "plt.rcParams['figure.dpi'] = 100\n",
        "plt.rcParams['font.size'] = 12\n",
        "plt.rcParams['legend.title_fontsize'] = 12"
      ],
      "execution_count": null,
      "outputs": []
    },
    {
      "cell_type": "markdown",
      "metadata": {
        "id": "x5lWDbs2sdPx"
      },
      "source": [
        "## Datenverwaltung\n",
        "### Einlesen der Daten"
      ]
    },
    {
      "cell_type": "code",
      "metadata": {
        "colab": {
          "base_uri": "https://localhost:8080/",
          "height": 455
        },
        "id": "kPUHKIwXsdPy",
        "outputId": "9a3fbb99-c0c4-4ddb-978e-8f9289db9d92"
      },
      "source": [
        "# Daten lokal abrufen\n",
        "\"\"\"\n",
        "data_df = pd.read_csv('tr_eikon_eod_data.csv', # Bezeichung Datensatz\n",
        "                      index_col=0, # Nummer der Spalte mit dem Index (Datum)\n",
        "                      parse_dates=True).dropna() # Umwaldung Index in Datumsformat & Entfernung von Datenlücken\n",
        "\"\"\"\n",
        "\n",
        "# Daten von GitHub abrufen\n",
        "data_df = pd.read_csv('https://raw.githubusercontent.com/yhilpisch/py4fi2nd/master/source/tr_eikon_eod_data.csv', # Bezeichung Datensatz\n",
        "                      index_col=0, # Nummer der Spalte mit dem Index (Datum)\n",
        "                      parse_dates=True).dropna() # Umwaldung Index in Datumsformat & Entfernung von Datenlücken\n",
        "data_df"
      ],
      "execution_count": null,
      "outputs": [
        {
          "output_type": "execute_result",
          "data": {
            "text/plain": [
              "                AAPL.O  MSFT.O  INTC.O   AMZN.O    GS.N     SPY     .SPX  \\\n",
              "Date                                                                       \n",
              "2010-01-04   30.572827  30.950   20.88   133.90  173.08  113.33  1132.99   \n",
              "2010-01-05   30.625684  30.960   20.87   134.69  176.14  113.63  1136.52   \n",
              "2010-01-06   30.138541  30.770   20.80   132.25  174.26  113.71  1137.14   \n",
              "2010-01-07   30.082827  30.452   20.60   130.00  177.67  114.19  1141.69   \n",
              "2010-01-08   30.282827  30.660   20.83   133.52  174.31  114.57  1144.98   \n",
              "...                ...     ...     ...      ...     ...     ...      ...   \n",
              "2018-06-25  182.170000  98.390   50.71  1663.15  221.54  271.00  2717.07   \n",
              "2018-06-26  184.430000  99.080   49.67  1691.09  221.58  271.60  2723.06   \n",
              "2018-06-27  184.160000  97.540   48.76  1660.51  220.18  269.35  2699.63   \n",
              "2018-06-28  185.500000  98.630   49.25  1701.45  223.42  270.89  2716.31   \n",
              "2018-06-29  185.110000  98.610   49.71  1699.80  220.57  271.28  2718.37   \n",
              "\n",
              "             .VIX    EUR=     XAU=    GDX     GLD  \n",
              "Date                                               \n",
              "2010-01-04  20.04  1.4411  1120.00  47.71  109.80  \n",
              "2010-01-05  19.35  1.4368  1118.65  48.17  109.70  \n",
              "2010-01-06  19.16  1.4412  1138.50  49.34  111.51  \n",
              "2010-01-07  19.06  1.4318  1131.90  49.10  110.82  \n",
              "2010-01-08  18.13  1.4412  1136.10  49.84  111.37  \n",
              "...           ...     ...      ...    ...     ...  \n",
              "2018-06-25  17.33  1.1702  1265.00  22.01  119.89  \n",
              "2018-06-26  15.92  1.1645  1258.64  21.95  119.26  \n",
              "2018-06-27  17.91  1.1552  1251.62  21.81  118.58  \n",
              "2018-06-28  16.85  1.1567  1247.88  21.93  118.22  \n",
              "2018-06-29  16.09  1.1683  1252.25  22.31  118.65  \n",
              "\n",
              "[2138 rows x 12 columns]"
            ],
            "text/html": [
              "\n",
              "  <div id=\"df-85d1e9d7-8db4-4024-bb5e-a1da61001e96\">\n",
              "    <div class=\"colab-df-container\">\n",
              "      <div>\n",
              "<style scoped>\n",
              "    .dataframe tbody tr th:only-of-type {\n",
              "        vertical-align: middle;\n",
              "    }\n",
              "\n",
              "    .dataframe tbody tr th {\n",
              "        vertical-align: top;\n",
              "    }\n",
              "\n",
              "    .dataframe thead th {\n",
              "        text-align: right;\n",
              "    }\n",
              "</style>\n",
              "<table border=\"1\" class=\"dataframe\">\n",
              "  <thead>\n",
              "    <tr style=\"text-align: right;\">\n",
              "      <th></th>\n",
              "      <th>AAPL.O</th>\n",
              "      <th>MSFT.O</th>\n",
              "      <th>INTC.O</th>\n",
              "      <th>AMZN.O</th>\n",
              "      <th>GS.N</th>\n",
              "      <th>SPY</th>\n",
              "      <th>.SPX</th>\n",
              "      <th>.VIX</th>\n",
              "      <th>EUR=</th>\n",
              "      <th>XAU=</th>\n",
              "      <th>GDX</th>\n",
              "      <th>GLD</th>\n",
              "    </tr>\n",
              "    <tr>\n",
              "      <th>Date</th>\n",
              "      <th></th>\n",
              "      <th></th>\n",
              "      <th></th>\n",
              "      <th></th>\n",
              "      <th></th>\n",
              "      <th></th>\n",
              "      <th></th>\n",
              "      <th></th>\n",
              "      <th></th>\n",
              "      <th></th>\n",
              "      <th></th>\n",
              "      <th></th>\n",
              "    </tr>\n",
              "  </thead>\n",
              "  <tbody>\n",
              "    <tr>\n",
              "      <th>2010-01-04</th>\n",
              "      <td>30.572827</td>\n",
              "      <td>30.950</td>\n",
              "      <td>20.88</td>\n",
              "      <td>133.90</td>\n",
              "      <td>173.08</td>\n",
              "      <td>113.33</td>\n",
              "      <td>1132.99</td>\n",
              "      <td>20.04</td>\n",
              "      <td>1.4411</td>\n",
              "      <td>1120.00</td>\n",
              "      <td>47.71</td>\n",
              "      <td>109.80</td>\n",
              "    </tr>\n",
              "    <tr>\n",
              "      <th>2010-01-05</th>\n",
              "      <td>30.625684</td>\n",
              "      <td>30.960</td>\n",
              "      <td>20.87</td>\n",
              "      <td>134.69</td>\n",
              "      <td>176.14</td>\n",
              "      <td>113.63</td>\n",
              "      <td>1136.52</td>\n",
              "      <td>19.35</td>\n",
              "      <td>1.4368</td>\n",
              "      <td>1118.65</td>\n",
              "      <td>48.17</td>\n",
              "      <td>109.70</td>\n",
              "    </tr>\n",
              "    <tr>\n",
              "      <th>2010-01-06</th>\n",
              "      <td>30.138541</td>\n",
              "      <td>30.770</td>\n",
              "      <td>20.80</td>\n",
              "      <td>132.25</td>\n",
              "      <td>174.26</td>\n",
              "      <td>113.71</td>\n",
              "      <td>1137.14</td>\n",
              "      <td>19.16</td>\n",
              "      <td>1.4412</td>\n",
              "      <td>1138.50</td>\n",
              "      <td>49.34</td>\n",
              "      <td>111.51</td>\n",
              "    </tr>\n",
              "    <tr>\n",
              "      <th>2010-01-07</th>\n",
              "      <td>30.082827</td>\n",
              "      <td>30.452</td>\n",
              "      <td>20.60</td>\n",
              "      <td>130.00</td>\n",
              "      <td>177.67</td>\n",
              "      <td>114.19</td>\n",
              "      <td>1141.69</td>\n",
              "      <td>19.06</td>\n",
              "      <td>1.4318</td>\n",
              "      <td>1131.90</td>\n",
              "      <td>49.10</td>\n",
              "      <td>110.82</td>\n",
              "    </tr>\n",
              "    <tr>\n",
              "      <th>2010-01-08</th>\n",
              "      <td>30.282827</td>\n",
              "      <td>30.660</td>\n",
              "      <td>20.83</td>\n",
              "      <td>133.52</td>\n",
              "      <td>174.31</td>\n",
              "      <td>114.57</td>\n",
              "      <td>1144.98</td>\n",
              "      <td>18.13</td>\n",
              "      <td>1.4412</td>\n",
              "      <td>1136.10</td>\n",
              "      <td>49.84</td>\n",
              "      <td>111.37</td>\n",
              "    </tr>\n",
              "    <tr>\n",
              "      <th>...</th>\n",
              "      <td>...</td>\n",
              "      <td>...</td>\n",
              "      <td>...</td>\n",
              "      <td>...</td>\n",
              "      <td>...</td>\n",
              "      <td>...</td>\n",
              "      <td>...</td>\n",
              "      <td>...</td>\n",
              "      <td>...</td>\n",
              "      <td>...</td>\n",
              "      <td>...</td>\n",
              "      <td>...</td>\n",
              "    </tr>\n",
              "    <tr>\n",
              "      <th>2018-06-25</th>\n",
              "      <td>182.170000</td>\n",
              "      <td>98.390</td>\n",
              "      <td>50.71</td>\n",
              "      <td>1663.15</td>\n",
              "      <td>221.54</td>\n",
              "      <td>271.00</td>\n",
              "      <td>2717.07</td>\n",
              "      <td>17.33</td>\n",
              "      <td>1.1702</td>\n",
              "      <td>1265.00</td>\n",
              "      <td>22.01</td>\n",
              "      <td>119.89</td>\n",
              "    </tr>\n",
              "    <tr>\n",
              "      <th>2018-06-26</th>\n",
              "      <td>184.430000</td>\n",
              "      <td>99.080</td>\n",
              "      <td>49.67</td>\n",
              "      <td>1691.09</td>\n",
              "      <td>221.58</td>\n",
              "      <td>271.60</td>\n",
              "      <td>2723.06</td>\n",
              "      <td>15.92</td>\n",
              "      <td>1.1645</td>\n",
              "      <td>1258.64</td>\n",
              "      <td>21.95</td>\n",
              "      <td>119.26</td>\n",
              "    </tr>\n",
              "    <tr>\n",
              "      <th>2018-06-27</th>\n",
              "      <td>184.160000</td>\n",
              "      <td>97.540</td>\n",
              "      <td>48.76</td>\n",
              "      <td>1660.51</td>\n",
              "      <td>220.18</td>\n",
              "      <td>269.35</td>\n",
              "      <td>2699.63</td>\n",
              "      <td>17.91</td>\n",
              "      <td>1.1552</td>\n",
              "      <td>1251.62</td>\n",
              "      <td>21.81</td>\n",
              "      <td>118.58</td>\n",
              "    </tr>\n",
              "    <tr>\n",
              "      <th>2018-06-28</th>\n",
              "      <td>185.500000</td>\n",
              "      <td>98.630</td>\n",
              "      <td>49.25</td>\n",
              "      <td>1701.45</td>\n",
              "      <td>223.42</td>\n",
              "      <td>270.89</td>\n",
              "      <td>2716.31</td>\n",
              "      <td>16.85</td>\n",
              "      <td>1.1567</td>\n",
              "      <td>1247.88</td>\n",
              "      <td>21.93</td>\n",
              "      <td>118.22</td>\n",
              "    </tr>\n",
              "    <tr>\n",
              "      <th>2018-06-29</th>\n",
              "      <td>185.110000</td>\n",
              "      <td>98.610</td>\n",
              "      <td>49.71</td>\n",
              "      <td>1699.80</td>\n",
              "      <td>220.57</td>\n",
              "      <td>271.28</td>\n",
              "      <td>2718.37</td>\n",
              "      <td>16.09</td>\n",
              "      <td>1.1683</td>\n",
              "      <td>1252.25</td>\n",
              "      <td>22.31</td>\n",
              "      <td>118.65</td>\n",
              "    </tr>\n",
              "  </tbody>\n",
              "</table>\n",
              "<p>2138 rows × 12 columns</p>\n",
              "</div>\n",
              "      <button class=\"colab-df-convert\" onclick=\"convertToInteractive('df-85d1e9d7-8db4-4024-bb5e-a1da61001e96')\"\n",
              "              title=\"Convert this dataframe to an interactive table.\"\n",
              "              style=\"display:none;\">\n",
              "        \n",
              "  <svg xmlns=\"http://www.w3.org/2000/svg\" height=\"24px\"viewBox=\"0 0 24 24\"\n",
              "       width=\"24px\">\n",
              "    <path d=\"M0 0h24v24H0V0z\" fill=\"none\"/>\n",
              "    <path d=\"M18.56 5.44l.94 2.06.94-2.06 2.06-.94-2.06-.94-.94-2.06-.94 2.06-2.06.94zm-11 1L8.5 8.5l.94-2.06 2.06-.94-2.06-.94L8.5 2.5l-.94 2.06-2.06.94zm10 10l.94 2.06.94-2.06 2.06-.94-2.06-.94-.94-2.06-.94 2.06-2.06.94z\"/><path d=\"M17.41 7.96l-1.37-1.37c-.4-.4-.92-.59-1.43-.59-.52 0-1.04.2-1.43.59L10.3 9.45l-7.72 7.72c-.78.78-.78 2.05 0 2.83L4 21.41c.39.39.9.59 1.41.59.51 0 1.02-.2 1.41-.59l7.78-7.78 2.81-2.81c.8-.78.8-2.07 0-2.86zM5.41 20L4 18.59l7.72-7.72 1.47 1.35L5.41 20z\"/>\n",
              "  </svg>\n",
              "      </button>\n",
              "      \n",
              "  <style>\n",
              "    .colab-df-container {\n",
              "      display:flex;\n",
              "      flex-wrap:wrap;\n",
              "      gap: 12px;\n",
              "    }\n",
              "\n",
              "    .colab-df-convert {\n",
              "      background-color: #E8F0FE;\n",
              "      border: none;\n",
              "      border-radius: 50%;\n",
              "      cursor: pointer;\n",
              "      display: none;\n",
              "      fill: #1967D2;\n",
              "      height: 32px;\n",
              "      padding: 0 0 0 0;\n",
              "      width: 32px;\n",
              "    }\n",
              "\n",
              "    .colab-df-convert:hover {\n",
              "      background-color: #E2EBFA;\n",
              "      box-shadow: 0px 1px 2px rgba(60, 64, 67, 0.3), 0px 1px 3px 1px rgba(60, 64, 67, 0.15);\n",
              "      fill: #174EA6;\n",
              "    }\n",
              "\n",
              "    [theme=dark] .colab-df-convert {\n",
              "      background-color: #3B4455;\n",
              "      fill: #D2E3FC;\n",
              "    }\n",
              "\n",
              "    [theme=dark] .colab-df-convert:hover {\n",
              "      background-color: #434B5C;\n",
              "      box-shadow: 0px 1px 3px 1px rgba(0, 0, 0, 0.15);\n",
              "      filter: drop-shadow(0px 1px 2px rgba(0, 0, 0, 0.3));\n",
              "      fill: #FFFFFF;\n",
              "    }\n",
              "  </style>\n",
              "\n",
              "      <script>\n",
              "        const buttonEl =\n",
              "          document.querySelector('#df-85d1e9d7-8db4-4024-bb5e-a1da61001e96 button.colab-df-convert');\n",
              "        buttonEl.style.display =\n",
              "          google.colab.kernel.accessAllowed ? 'block' : 'none';\n",
              "\n",
              "        async function convertToInteractive(key) {\n",
              "          const element = document.querySelector('#df-85d1e9d7-8db4-4024-bb5e-a1da61001e96');\n",
              "          const dataTable =\n",
              "            await google.colab.kernel.invokeFunction('convertToInteractive',\n",
              "                                                     [key], {});\n",
              "          if (!dataTable) return;\n",
              "\n",
              "          const docLinkHtml = 'Like what you see? Visit the ' +\n",
              "            '<a target=\"_blank\" href=https://colab.research.google.com/notebooks/data_table.ipynb>data table notebook</a>'\n",
              "            + ' to learn more about interactive tables.';\n",
              "          element.innerHTML = '';\n",
              "          dataTable['output_type'] = 'display_data';\n",
              "          await google.colab.output.renderOutput(dataTable, element);\n",
              "          const docLink = document.createElement('div');\n",
              "          docLink.innerHTML = docLinkHtml;\n",
              "          element.appendChild(docLink);\n",
              "        }\n",
              "      </script>\n",
              "    </div>\n",
              "  </div>\n",
              "  "
            ]
          },
          "metadata": {},
          "execution_count": 3
        }
      ]
    },
    {
      "cell_type": "markdown",
      "metadata": {
        "id": "PjsSEKQCsdP1"
      },
      "source": [
        "### Datenauswahl"
      ]
    },
    {
      "cell_type": "code",
      "metadata": {
        "colab": {
          "base_uri": "https://localhost:8080/",
          "height": 455
        },
        "id": "vyOHl-UGsdP2",
        "outputId": "4c3d66a0-d987-4187-c93f-e7c4befd426f"
      },
      "source": [
        "# AAPL.O: Apple, Softwareentwickler\n",
        "# MSFT.O: Microsoft Corporation, Technologieunternehmen\n",
        "# GLD: SPDR Gold Shares, Börsengehandelter Fond\n",
        "# SPY: S&P 500 ETF\n",
        "\n",
        "symbols = ['AAPL.O', 'MSFT.O', 'GLD', 'SPY'] # Definition der zu wählenden Assets in einer Liste\n",
        "number_of_assets = len(symbols) # Länge der Liste\n",
        "data_selected = data_df[symbols] # Auswahl der Daten\n",
        "data_selected"
      ],
      "execution_count": null,
      "outputs": [
        {
          "output_type": "execute_result",
          "data": {
            "text/plain": [
              "                AAPL.O  MSFT.O     GLD     SPY\n",
              "Date                                          \n",
              "2010-01-04   30.572827  30.950  109.80  113.33\n",
              "2010-01-05   30.625684  30.960  109.70  113.63\n",
              "2010-01-06   30.138541  30.770  111.51  113.71\n",
              "2010-01-07   30.082827  30.452  110.82  114.19\n",
              "2010-01-08   30.282827  30.660  111.37  114.57\n",
              "...                ...     ...     ...     ...\n",
              "2018-06-25  182.170000  98.390  119.89  271.00\n",
              "2018-06-26  184.430000  99.080  119.26  271.60\n",
              "2018-06-27  184.160000  97.540  118.58  269.35\n",
              "2018-06-28  185.500000  98.630  118.22  270.89\n",
              "2018-06-29  185.110000  98.610  118.65  271.28\n",
              "\n",
              "[2138 rows x 4 columns]"
            ],
            "text/html": [
              "\n",
              "  <div id=\"df-4a5f50a5-0574-4e77-9b4f-7fd6b3b71f9e\">\n",
              "    <div class=\"colab-df-container\">\n",
              "      <div>\n",
              "<style scoped>\n",
              "    .dataframe tbody tr th:only-of-type {\n",
              "        vertical-align: middle;\n",
              "    }\n",
              "\n",
              "    .dataframe tbody tr th {\n",
              "        vertical-align: top;\n",
              "    }\n",
              "\n",
              "    .dataframe thead th {\n",
              "        text-align: right;\n",
              "    }\n",
              "</style>\n",
              "<table border=\"1\" class=\"dataframe\">\n",
              "  <thead>\n",
              "    <tr style=\"text-align: right;\">\n",
              "      <th></th>\n",
              "      <th>AAPL.O</th>\n",
              "      <th>MSFT.O</th>\n",
              "      <th>GLD</th>\n",
              "      <th>SPY</th>\n",
              "    </tr>\n",
              "    <tr>\n",
              "      <th>Date</th>\n",
              "      <th></th>\n",
              "      <th></th>\n",
              "      <th></th>\n",
              "      <th></th>\n",
              "    </tr>\n",
              "  </thead>\n",
              "  <tbody>\n",
              "    <tr>\n",
              "      <th>2010-01-04</th>\n",
              "      <td>30.572827</td>\n",
              "      <td>30.950</td>\n",
              "      <td>109.80</td>\n",
              "      <td>113.33</td>\n",
              "    </tr>\n",
              "    <tr>\n",
              "      <th>2010-01-05</th>\n",
              "      <td>30.625684</td>\n",
              "      <td>30.960</td>\n",
              "      <td>109.70</td>\n",
              "      <td>113.63</td>\n",
              "    </tr>\n",
              "    <tr>\n",
              "      <th>2010-01-06</th>\n",
              "      <td>30.138541</td>\n",
              "      <td>30.770</td>\n",
              "      <td>111.51</td>\n",
              "      <td>113.71</td>\n",
              "    </tr>\n",
              "    <tr>\n",
              "      <th>2010-01-07</th>\n",
              "      <td>30.082827</td>\n",
              "      <td>30.452</td>\n",
              "      <td>110.82</td>\n",
              "      <td>114.19</td>\n",
              "    </tr>\n",
              "    <tr>\n",
              "      <th>2010-01-08</th>\n",
              "      <td>30.282827</td>\n",
              "      <td>30.660</td>\n",
              "      <td>111.37</td>\n",
              "      <td>114.57</td>\n",
              "    </tr>\n",
              "    <tr>\n",
              "      <th>...</th>\n",
              "      <td>...</td>\n",
              "      <td>...</td>\n",
              "      <td>...</td>\n",
              "      <td>...</td>\n",
              "    </tr>\n",
              "    <tr>\n",
              "      <th>2018-06-25</th>\n",
              "      <td>182.170000</td>\n",
              "      <td>98.390</td>\n",
              "      <td>119.89</td>\n",
              "      <td>271.00</td>\n",
              "    </tr>\n",
              "    <tr>\n",
              "      <th>2018-06-26</th>\n",
              "      <td>184.430000</td>\n",
              "      <td>99.080</td>\n",
              "      <td>119.26</td>\n",
              "      <td>271.60</td>\n",
              "    </tr>\n",
              "    <tr>\n",
              "      <th>2018-06-27</th>\n",
              "      <td>184.160000</td>\n",
              "      <td>97.540</td>\n",
              "      <td>118.58</td>\n",
              "      <td>269.35</td>\n",
              "    </tr>\n",
              "    <tr>\n",
              "      <th>2018-06-28</th>\n",
              "      <td>185.500000</td>\n",
              "      <td>98.630</td>\n",
              "      <td>118.22</td>\n",
              "      <td>270.89</td>\n",
              "    </tr>\n",
              "    <tr>\n",
              "      <th>2018-06-29</th>\n",
              "      <td>185.110000</td>\n",
              "      <td>98.610</td>\n",
              "      <td>118.65</td>\n",
              "      <td>271.28</td>\n",
              "    </tr>\n",
              "  </tbody>\n",
              "</table>\n",
              "<p>2138 rows × 4 columns</p>\n",
              "</div>\n",
              "      <button class=\"colab-df-convert\" onclick=\"convertToInteractive('df-4a5f50a5-0574-4e77-9b4f-7fd6b3b71f9e')\"\n",
              "              title=\"Convert this dataframe to an interactive table.\"\n",
              "              style=\"display:none;\">\n",
              "        \n",
              "  <svg xmlns=\"http://www.w3.org/2000/svg\" height=\"24px\"viewBox=\"0 0 24 24\"\n",
              "       width=\"24px\">\n",
              "    <path d=\"M0 0h24v24H0V0z\" fill=\"none\"/>\n",
              "    <path d=\"M18.56 5.44l.94 2.06.94-2.06 2.06-.94-2.06-.94-.94-2.06-.94 2.06-2.06.94zm-11 1L8.5 8.5l.94-2.06 2.06-.94-2.06-.94L8.5 2.5l-.94 2.06-2.06.94zm10 10l.94 2.06.94-2.06 2.06-.94-2.06-.94-.94-2.06-.94 2.06-2.06.94z\"/><path d=\"M17.41 7.96l-1.37-1.37c-.4-.4-.92-.59-1.43-.59-.52 0-1.04.2-1.43.59L10.3 9.45l-7.72 7.72c-.78.78-.78 2.05 0 2.83L4 21.41c.39.39.9.59 1.41.59.51 0 1.02-.2 1.41-.59l7.78-7.78 2.81-2.81c.8-.78.8-2.07 0-2.86zM5.41 20L4 18.59l7.72-7.72 1.47 1.35L5.41 20z\"/>\n",
              "  </svg>\n",
              "      </button>\n",
              "      \n",
              "  <style>\n",
              "    .colab-df-container {\n",
              "      display:flex;\n",
              "      flex-wrap:wrap;\n",
              "      gap: 12px;\n",
              "    }\n",
              "\n",
              "    .colab-df-convert {\n",
              "      background-color: #E8F0FE;\n",
              "      border: none;\n",
              "      border-radius: 50%;\n",
              "      cursor: pointer;\n",
              "      display: none;\n",
              "      fill: #1967D2;\n",
              "      height: 32px;\n",
              "      padding: 0 0 0 0;\n",
              "      width: 32px;\n",
              "    }\n",
              "\n",
              "    .colab-df-convert:hover {\n",
              "      background-color: #E2EBFA;\n",
              "      box-shadow: 0px 1px 2px rgba(60, 64, 67, 0.3), 0px 1px 3px 1px rgba(60, 64, 67, 0.15);\n",
              "      fill: #174EA6;\n",
              "    }\n",
              "\n",
              "    [theme=dark] .colab-df-convert {\n",
              "      background-color: #3B4455;\n",
              "      fill: #D2E3FC;\n",
              "    }\n",
              "\n",
              "    [theme=dark] .colab-df-convert:hover {\n",
              "      background-color: #434B5C;\n",
              "      box-shadow: 0px 1px 3px 1px rgba(0, 0, 0, 0.15);\n",
              "      filter: drop-shadow(0px 1px 2px rgba(0, 0, 0, 0.3));\n",
              "      fill: #FFFFFF;\n",
              "    }\n",
              "  </style>\n",
              "\n",
              "      <script>\n",
              "        const buttonEl =\n",
              "          document.querySelector('#df-4a5f50a5-0574-4e77-9b4f-7fd6b3b71f9e button.colab-df-convert');\n",
              "        buttonEl.style.display =\n",
              "          google.colab.kernel.accessAllowed ? 'block' : 'none';\n",
              "\n",
              "        async function convertToInteractive(key) {\n",
              "          const element = document.querySelector('#df-4a5f50a5-0574-4e77-9b4f-7fd6b3b71f9e');\n",
              "          const dataTable =\n",
              "            await google.colab.kernel.invokeFunction('convertToInteractive',\n",
              "                                                     [key], {});\n",
              "          if (!dataTable) return;\n",
              "\n",
              "          const docLinkHtml = 'Like what you see? Visit the ' +\n",
              "            '<a target=\"_blank\" href=https://colab.research.google.com/notebooks/data_table.ipynb>data table notebook</a>'\n",
              "            + ' to learn more about interactive tables.';\n",
              "          element.innerHTML = '';\n",
              "          dataTable['output_type'] = 'display_data';\n",
              "          await google.colab.output.renderOutput(dataTable, element);\n",
              "          const docLink = document.createElement('div');\n",
              "          docLink.innerHTML = docLinkHtml;\n",
              "          element.appendChild(docLink);\n",
              "        }\n",
              "      </script>\n",
              "    </div>\n",
              "  </div>\n",
              "  "
            ]
          },
          "metadata": {},
          "execution_count": 4
        }
      ]
    },
    {
      "cell_type": "markdown",
      "metadata": {
        "id": "K4l5jpEwsdP3"
      },
      "source": [
        "### Transformation der Daten"
      ]
    },
    {
      "cell_type": "code",
      "metadata": {
        "colab": {
          "base_uri": "https://localhost:8080/",
          "height": 455
        },
        "id": "-6BLCLuWsdP4",
        "outputId": "0f2b6ba5-ea2c-410b-919a-c830824d70e1"
      },
      "source": [
        "log_returns = np.log(data_selected / data_selected.shift(1)).dropna()\n",
        "log_returns"
      ],
      "execution_count": null,
      "outputs": [
        {
          "output_type": "execute_result",
          "data": {
            "text/plain": [
              "              AAPL.O    MSFT.O       GLD       SPY\n",
              "Date                                              \n",
              "2010-01-05  0.001727  0.000323 -0.000911  0.002644\n",
              "2010-01-06 -0.016034 -0.006156  0.016365  0.000704\n",
              "2010-01-07 -0.001850 -0.010389 -0.006207  0.004212\n",
              "2010-01-08  0.006626  0.006807  0.004951  0.003322\n",
              "2010-01-11 -0.008861 -0.012802  0.013202  0.001396\n",
              "...              ...       ...       ...       ...\n",
              "2018-06-25 -0.014983 -0.020323 -0.003746 -0.013706\n",
              "2018-06-26  0.012330  0.006988 -0.005269  0.002212\n",
              "2018-06-27 -0.001465 -0.015665 -0.005718 -0.008319\n",
              "2018-06-28  0.007250  0.011113 -0.003041  0.005701\n",
              "2018-06-29 -0.002105 -0.000203  0.003631  0.001439\n",
              "\n",
              "[2137 rows x 4 columns]"
            ],
            "text/html": [
              "\n",
              "  <div id=\"df-8bc2d98d-df90-4ea5-8bc7-3c72e5e6bb83\">\n",
              "    <div class=\"colab-df-container\">\n",
              "      <div>\n",
              "<style scoped>\n",
              "    .dataframe tbody tr th:only-of-type {\n",
              "        vertical-align: middle;\n",
              "    }\n",
              "\n",
              "    .dataframe tbody tr th {\n",
              "        vertical-align: top;\n",
              "    }\n",
              "\n",
              "    .dataframe thead th {\n",
              "        text-align: right;\n",
              "    }\n",
              "</style>\n",
              "<table border=\"1\" class=\"dataframe\">\n",
              "  <thead>\n",
              "    <tr style=\"text-align: right;\">\n",
              "      <th></th>\n",
              "      <th>AAPL.O</th>\n",
              "      <th>MSFT.O</th>\n",
              "      <th>GLD</th>\n",
              "      <th>SPY</th>\n",
              "    </tr>\n",
              "    <tr>\n",
              "      <th>Date</th>\n",
              "      <th></th>\n",
              "      <th></th>\n",
              "      <th></th>\n",
              "      <th></th>\n",
              "    </tr>\n",
              "  </thead>\n",
              "  <tbody>\n",
              "    <tr>\n",
              "      <th>2010-01-05</th>\n",
              "      <td>0.001727</td>\n",
              "      <td>0.000323</td>\n",
              "      <td>-0.000911</td>\n",
              "      <td>0.002644</td>\n",
              "    </tr>\n",
              "    <tr>\n",
              "      <th>2010-01-06</th>\n",
              "      <td>-0.016034</td>\n",
              "      <td>-0.006156</td>\n",
              "      <td>0.016365</td>\n",
              "      <td>0.000704</td>\n",
              "    </tr>\n",
              "    <tr>\n",
              "      <th>2010-01-07</th>\n",
              "      <td>-0.001850</td>\n",
              "      <td>-0.010389</td>\n",
              "      <td>-0.006207</td>\n",
              "      <td>0.004212</td>\n",
              "    </tr>\n",
              "    <tr>\n",
              "      <th>2010-01-08</th>\n",
              "      <td>0.006626</td>\n",
              "      <td>0.006807</td>\n",
              "      <td>0.004951</td>\n",
              "      <td>0.003322</td>\n",
              "    </tr>\n",
              "    <tr>\n",
              "      <th>2010-01-11</th>\n",
              "      <td>-0.008861</td>\n",
              "      <td>-0.012802</td>\n",
              "      <td>0.013202</td>\n",
              "      <td>0.001396</td>\n",
              "    </tr>\n",
              "    <tr>\n",
              "      <th>...</th>\n",
              "      <td>...</td>\n",
              "      <td>...</td>\n",
              "      <td>...</td>\n",
              "      <td>...</td>\n",
              "    </tr>\n",
              "    <tr>\n",
              "      <th>2018-06-25</th>\n",
              "      <td>-0.014983</td>\n",
              "      <td>-0.020323</td>\n",
              "      <td>-0.003746</td>\n",
              "      <td>-0.013706</td>\n",
              "    </tr>\n",
              "    <tr>\n",
              "      <th>2018-06-26</th>\n",
              "      <td>0.012330</td>\n",
              "      <td>0.006988</td>\n",
              "      <td>-0.005269</td>\n",
              "      <td>0.002212</td>\n",
              "    </tr>\n",
              "    <tr>\n",
              "      <th>2018-06-27</th>\n",
              "      <td>-0.001465</td>\n",
              "      <td>-0.015665</td>\n",
              "      <td>-0.005718</td>\n",
              "      <td>-0.008319</td>\n",
              "    </tr>\n",
              "    <tr>\n",
              "      <th>2018-06-28</th>\n",
              "      <td>0.007250</td>\n",
              "      <td>0.011113</td>\n",
              "      <td>-0.003041</td>\n",
              "      <td>0.005701</td>\n",
              "    </tr>\n",
              "    <tr>\n",
              "      <th>2018-06-29</th>\n",
              "      <td>-0.002105</td>\n",
              "      <td>-0.000203</td>\n",
              "      <td>0.003631</td>\n",
              "      <td>0.001439</td>\n",
              "    </tr>\n",
              "  </tbody>\n",
              "</table>\n",
              "<p>2137 rows × 4 columns</p>\n",
              "</div>\n",
              "      <button class=\"colab-df-convert\" onclick=\"convertToInteractive('df-8bc2d98d-df90-4ea5-8bc7-3c72e5e6bb83')\"\n",
              "              title=\"Convert this dataframe to an interactive table.\"\n",
              "              style=\"display:none;\">\n",
              "        \n",
              "  <svg xmlns=\"http://www.w3.org/2000/svg\" height=\"24px\"viewBox=\"0 0 24 24\"\n",
              "       width=\"24px\">\n",
              "    <path d=\"M0 0h24v24H0V0z\" fill=\"none\"/>\n",
              "    <path d=\"M18.56 5.44l.94 2.06.94-2.06 2.06-.94-2.06-.94-.94-2.06-.94 2.06-2.06.94zm-11 1L8.5 8.5l.94-2.06 2.06-.94-2.06-.94L8.5 2.5l-.94 2.06-2.06.94zm10 10l.94 2.06.94-2.06 2.06-.94-2.06-.94-.94-2.06-.94 2.06-2.06.94z\"/><path d=\"M17.41 7.96l-1.37-1.37c-.4-.4-.92-.59-1.43-.59-.52 0-1.04.2-1.43.59L10.3 9.45l-7.72 7.72c-.78.78-.78 2.05 0 2.83L4 21.41c.39.39.9.59 1.41.59.51 0 1.02-.2 1.41-.59l7.78-7.78 2.81-2.81c.8-.78.8-2.07 0-2.86zM5.41 20L4 18.59l7.72-7.72 1.47 1.35L5.41 20z\"/>\n",
              "  </svg>\n",
              "      </button>\n",
              "      \n",
              "  <style>\n",
              "    .colab-df-container {\n",
              "      display:flex;\n",
              "      flex-wrap:wrap;\n",
              "      gap: 12px;\n",
              "    }\n",
              "\n",
              "    .colab-df-convert {\n",
              "      background-color: #E8F0FE;\n",
              "      border: none;\n",
              "      border-radius: 50%;\n",
              "      cursor: pointer;\n",
              "      display: none;\n",
              "      fill: #1967D2;\n",
              "      height: 32px;\n",
              "      padding: 0 0 0 0;\n",
              "      width: 32px;\n",
              "    }\n",
              "\n",
              "    .colab-df-convert:hover {\n",
              "      background-color: #E2EBFA;\n",
              "      box-shadow: 0px 1px 2px rgba(60, 64, 67, 0.3), 0px 1px 3px 1px rgba(60, 64, 67, 0.15);\n",
              "      fill: #174EA6;\n",
              "    }\n",
              "\n",
              "    [theme=dark] .colab-df-convert {\n",
              "      background-color: #3B4455;\n",
              "      fill: #D2E3FC;\n",
              "    }\n",
              "\n",
              "    [theme=dark] .colab-df-convert:hover {\n",
              "      background-color: #434B5C;\n",
              "      box-shadow: 0px 1px 3px 1px rgba(0, 0, 0, 0.15);\n",
              "      filter: drop-shadow(0px 1px 2px rgba(0, 0, 0, 0.3));\n",
              "      fill: #FFFFFF;\n",
              "    }\n",
              "  </style>\n",
              "\n",
              "      <script>\n",
              "        const buttonEl =\n",
              "          document.querySelector('#df-8bc2d98d-df90-4ea5-8bc7-3c72e5e6bb83 button.colab-df-convert');\n",
              "        buttonEl.style.display =\n",
              "          google.colab.kernel.accessAllowed ? 'block' : 'none';\n",
              "\n",
              "        async function convertToInteractive(key) {\n",
              "          const element = document.querySelector('#df-8bc2d98d-df90-4ea5-8bc7-3c72e5e6bb83');\n",
              "          const dataTable =\n",
              "            await google.colab.kernel.invokeFunction('convertToInteractive',\n",
              "                                                     [key], {});\n",
              "          if (!dataTable) return;\n",
              "\n",
              "          const docLinkHtml = 'Like what you see? Visit the ' +\n",
              "            '<a target=\"_blank\" href=https://colab.research.google.com/notebooks/data_table.ipynb>data table notebook</a>'\n",
              "            + ' to learn more about interactive tables.';\n",
              "          element.innerHTML = '';\n",
              "          dataTable['output_type'] = 'display_data';\n",
              "          await google.colab.output.renderOutput(dataTable, element);\n",
              "          const docLink = document.createElement('div');\n",
              "          docLink.innerHTML = docLinkHtml;\n",
              "          element.appendChild(docLink);\n",
              "        }\n",
              "      </script>\n",
              "    </div>\n",
              "  </div>\n",
              "  "
            ]
          },
          "metadata": {},
          "execution_count": 5
        }
      ]
    },
    {
      "cell_type": "markdown",
      "metadata": {
        "id": "0wFoI9zXsdP7"
      },
      "source": [
        "### Grafische Datstellung"
      ]
    },
    {
      "cell_type": "code",
      "metadata": {
        "colab": {
          "base_uri": "https://localhost:8080/",
          "height": 559
        },
        "id": "yH_tvOM4sdP7",
        "outputId": "e135ebec-3319-4700-c617-21c0ca124972"
      },
      "source": [
        "log_returns.hist(bins=40)"
      ],
      "execution_count": null,
      "outputs": [
        {
          "output_type": "execute_result",
          "data": {
            "text/plain": [
              "array([[<matplotlib.axes._subplots.AxesSubplot object at 0x7fca81717f90>,\n",
              "        <matplotlib.axes._subplots.AxesSubplot object at 0x7fca8166df10>],\n",
              "       [<matplotlib.axes._subplots.AxesSubplot object at 0x7fca81633590>,\n",
              "        <matplotlib.axes._subplots.AxesSubplot object at 0x7fca81669b90>]],\n",
              "      dtype=object)"
            ]
          },
          "metadata": {},
          "execution_count": 6
        },
        {
          "output_type": "display_data",
          "data": {
            "text/plain": [
              "<Figure size 800x500 with 4 Axes>"
            ],
            "image/png": "[encoded data removed]"
          },
          "metadata": {
            "needs_background": "light"
          }
        }
      ]
    },
    {
      "cell_type": "markdown",
      "metadata": {
        "id": "MWCLzbd2sdP9"
      },
      "source": [
        "## Bestimmung annualisierte Returns und Kovarianzmatrix"
      ]
    },
    {
      "cell_type": "code",
      "metadata": {
        "colab": {
          "base_uri": "https://localhost:8080/"
        },
        "id": "9SFYtvRasdP-",
        "outputId": "962f5874-7220-40ef-fd78-ae2285cd104d"
      },
      "source": [
        "log_returns_mean = log_returns.mean() * 252\n",
        "log_returns_mean"
      ],
      "execution_count": null,
      "outputs": [
        {
          "output_type": "execute_result",
          "data": {
            "text/plain": [
              "AAPL.O    0.212359\n",
              "MSFT.O    0.136648\n",
              "GLD       0.009141\n",
              "SPY       0.102928\n",
              "dtype: float64"
            ]
          },
          "metadata": {},
          "execution_count": 7
        }
      ]
    },
    {
      "cell_type": "code",
      "metadata": {
        "colab": {
          "base_uri": "https://localhost:8080/",
          "height": 175
        },
        "id": "RcqromSSsdP_",
        "outputId": "24a9eedb-c5ca-4bc3-a4b5-c02e62dde76e"
      },
      "source": [
        "log_returns_cov = log_returns.cov() * 252\n",
        "log_returns_cov"
      ],
      "execution_count": null,
      "outputs": [
        {
          "output_type": "execute_result",
          "data": {
            "text/plain": [
              "          AAPL.O    MSFT.O       GLD       SPY\n",
              "AAPL.O  0.063773  0.023427  0.001513  0.021039\n",
              "MSFT.O  0.023427  0.050917 -0.000347  0.022244\n",
              "GLD     0.001513 -0.000347  0.026209  0.000062\n",
              "SPY     0.021039  0.022244  0.000062  0.021939"
            ],
            "text/html": [
              "\n",
              "  <div id=\"df-7d0e8c77-ae32-4960-b2f8-7170d53a9002\">\n",
              "    <div class=\"colab-df-container\">\n",
              "      <div>\n",
              "<style scoped>\n",
              "    .dataframe tbody tr th:only-of-type {\n",
              "        vertical-align: middle;\n",
              "    }\n",
              "\n",
              "    .dataframe tbody tr th {\n",
              "        vertical-align: top;\n",
              "    }\n",
              "\n",
              "    .dataframe thead th {\n",
              "        text-align: right;\n",
              "    }\n",
              "</style>\n",
              "<table border=\"1\" class=\"dataframe\">\n",
              "  <thead>\n",
              "    <tr style=\"text-align: right;\">\n",
              "      <th></th>\n",
              "      <th>AAPL.O</th>\n",
              "      <th>MSFT.O</th>\n",
              "      <th>GLD</th>\n",
              "      <th>SPY</th>\n",
              "    </tr>\n",
              "  </thead>\n",
              "  <tbody>\n",
              "    <tr>\n",
              "      <th>AAPL.O</th>\n",
              "      <td>0.063773</td>\n",
              "      <td>0.023427</td>\n",
              "      <td>0.001513</td>\n",
              "      <td>0.021039</td>\n",
              "    </tr>\n",
              "    <tr>\n",
              "      <th>MSFT.O</th>\n",
              "      <td>0.023427</td>\n",
              "      <td>0.050917</td>\n",
              "      <td>-0.000347</td>\n",
              "      <td>0.022244</td>\n",
              "    </tr>\n",
              "    <tr>\n",
              "      <th>GLD</th>\n",
              "      <td>0.001513</td>\n",
              "      <td>-0.000347</td>\n",
              "      <td>0.026209</td>\n",
              "      <td>0.000062</td>\n",
              "    </tr>\n",
              "    <tr>\n",
              "      <th>SPY</th>\n",
              "      <td>0.021039</td>\n",
              "      <td>0.022244</td>\n",
              "      <td>0.000062</td>\n",
              "      <td>0.021939</td>\n",
              "    </tr>\n",
              "  </tbody>\n",
              "</table>\n",
              "</div>\n",
              "      <button class=\"colab-df-convert\" onclick=\"convertToInteractive('df-7d0e8c77-ae32-4960-b2f8-7170d53a9002')\"\n",
              "              title=\"Convert this dataframe to an interactive table.\"\n",
              "              style=\"display:none;\">\n",
              "        \n",
              "  <svg xmlns=\"http://www.w3.org/2000/svg\" height=\"24px\"viewBox=\"0 0 24 24\"\n",
              "       width=\"24px\">\n",
              "    <path d=\"M0 0h24v24H0V0z\" fill=\"none\"/>\n",
              "    <path d=\"M18.56 5.44l.94 2.06.94-2.06 2.06-.94-2.06-.94-.94-2.06-.94 2.06-2.06.94zm-11 1L8.5 8.5l.94-2.06 2.06-.94-2.06-.94L8.5 2.5l-.94 2.06-2.06.94zm10 10l.94 2.06.94-2.06 2.06-.94-2.06-.94-.94-2.06-.94 2.06-2.06.94z\"/><path d=\"M17.41 7.96l-1.37-1.37c-.4-.4-.92-.59-1.43-.59-.52 0-1.04.2-1.43.59L10.3 9.45l-7.72 7.72c-.78.78-.78 2.05 0 2.83L4 21.41c.39.39.9.59 1.41.59.51 0 1.02-.2 1.41-.59l7.78-7.78 2.81-2.81c.8-.78.8-2.07 0-2.86zM5.41 20L4 18.59l7.72-7.72 1.47 1.35L5.41 20z\"/>\n",
              "  </svg>\n",
              "      </button>\n",
              "      \n",
              "  <style>\n",
              "    .colab-df-container {\n",
              "      display:flex;\n",
              "      flex-wrap:wrap;\n",
              "      gap: 12px;\n",
              "    }\n",
              "\n",
              "    .colab-df-convert {\n",
              "      background-color: #E8F0FE;\n",
              "      border: none;\n",
              "      border-radius: 50%;\n",
              "      cursor: pointer;\n",
              "      display: none;\n",
              "      fill: #1967D2;\n",
              "      height: 32px;\n",
              "      padding: 0 0 0 0;\n",
              "      width: 32px;\n",
              "    }\n",
              "\n",
              "    .colab-df-convert:hover {\n",
              "      background-color: #E2EBFA;\n",
              "      box-shadow: 0px 1px 2px rgba(60, 64, 67, 0.3), 0px 1px 3px 1px rgba(60, 64, 67, 0.15);\n",
              "      fill: #174EA6;\n",
              "    }\n",
              "\n",
              "    [theme=dark] .colab-df-convert {\n",
              "      background-color: #3B4455;\n",
              "      fill: #D2E3FC;\n",
              "    }\n",
              "\n",
              "    [theme=dark] .colab-df-convert:hover {\n",
              "      background-color: #434B5C;\n",
              "      box-shadow: 0px 1px 3px 1px rgba(0, 0, 0, 0.15);\n",
              "      filter: drop-shadow(0px 1px 2px rgba(0, 0, 0, 0.3));\n",
              "      fill: #FFFFFF;\n",
              "    }\n",
              "  </style>\n",
              "\n",
              "      <script>\n",
              "        const buttonEl =\n",
              "          document.querySelector('#df-7d0e8c77-ae32-4960-b2f8-7170d53a9002 button.colab-df-convert');\n",
              "        buttonEl.style.display =\n",
              "          google.colab.kernel.accessAllowed ? 'block' : 'none';\n",
              "\n",
              "        async function convertToInteractive(key) {\n",
              "          const element = document.querySelector('#df-7d0e8c77-ae32-4960-b2f8-7170d53a9002');\n",
              "          const dataTable =\n",
              "            await google.colab.kernel.invokeFunction('convertToInteractive',\n",
              "                                                     [key], {});\n",
              "          if (!dataTable) return;\n",
              "\n",
              "          const docLinkHtml = 'Like what you see? Visit the ' +\n",
              "            '<a target=\"_blank\" href=https://colab.research.google.com/notebooks/data_table.ipynb>data table notebook</a>'\n",
              "            + ' to learn more about interactive tables.';\n",
              "          element.innerHTML = '';\n",
              "          dataTable['output_type'] = 'display_data';\n",
              "          await google.colab.output.renderOutput(dataTable, element);\n",
              "          const docLink = document.createElement('div');\n",
              "          docLink.innerHTML = docLinkHtml;\n",
              "          element.appendChild(docLink);\n",
              "        }\n",
              "      </script>\n",
              "    </div>\n",
              "  </div>\n",
              "  "
            ]
          },
          "metadata": {},
          "execution_count": 8
        }
      ]
    },
    {
      "cell_type": "markdown",
      "metadata": {
        "id": "HdCn3tD0sdQA"
      },
      "source": [
        "## Simulative Bestimmung der Portfolio-Gewichte\n",
        "### Zufällige Gewichtung\n",
        "#### Generierung zufälliger Gewichte"
      ]
    },
    {
      "cell_type": "code",
      "metadata": {
        "colab": {
          "base_uri": "https://localhost:8080/"
        },
        "id": "RmJwGIrKsdQA",
        "outputId": "6162b3d8-1f9c-4bcb-950a-a3d9674fe5f0"
      },
      "source": [
        "# Generierung gleichverteilter Pseudo-Zufallszahlen im Bereich [0,1]\n",
        "random_weights = np.random.random(number_of_assets)\n",
        "random_weights"
      ],
      "execution_count": null,
      "outputs": [
        {
          "output_type": "execute_result",
          "data": {
            "text/plain": [
              "array([0.37454012, 0.95071431, 0.73199394, 0.59865848])"
            ]
          },
          "metadata": {},
          "execution_count": 9
        }
      ]
    },
    {
      "cell_type": "code",
      "metadata": {
        "colab": {
          "base_uri": "https://localhost:8080/"
        },
        "id": "LNZN_WzZsdQB",
        "outputId": "f06bad6e-1f39-4814-8c5c-8ef0037df1a7"
      },
      "source": [
        "# Normalisierung, damit Summe der Gewichte Eins beträgt\n",
        "random_weights /= np.sum(random_weights)\n",
        "random_weights"
      ],
      "execution_count": null,
      "outputs": [
        {
          "output_type": "execute_result",
          "data": {
            "text/plain": [
              "array([0.14102156, 0.35796222, 0.27560979, 0.22540643])"
            ]
          },
          "metadata": {},
          "execution_count": 10
        }
      ]
    },
    {
      "cell_type": "code",
      "metadata": {
        "colab": {
          "base_uri": "https://localhost:8080/"
        },
        "id": "bsiYnwA5sdQC",
        "outputId": "6a160c46-780c-41c8-dcbe-93f5e1fa3545"
      },
      "source": [
        "random_weights.sum()"
      ],
      "execution_count": null,
      "outputs": [
        {
          "output_type": "execute_result",
          "data": {
            "text/plain": [
              "1.0"
            ]
          },
          "metadata": {},
          "execution_count": 11
        }
      ]
    },
    {
      "cell_type": "markdown",
      "metadata": {
        "id": "32lnJP5NsdQD"
      },
      "source": [
        "#### Bestimmung $\\mu$ und $\\sigma$"
      ]
    },
    {
      "cell_type": "code",
      "metadata": {
        "colab": {
          "base_uri": "https://localhost:8080/"
        },
        "id": "6dsf-4ubsdQE",
        "outputId": "42c8e97e-2adb-4c4e-9a61-7b8c6693d29b"
      },
      "source": [
        "# Annualisierter Portfolio-Return auf Basis zufälliger Gewichtung\n",
        "print('Return: {}'.format((np.sum(log_returns.mean() * random_weights) * 252).round(3)))"
      ],
      "execution_count": null,
      "outputs": [
        {
          "output_type": "stream",
          "name": "stdout",
          "text": [
            "Return: 0.105\n"
          ]
        }
      ]
    },
    {
      "cell_type": "code",
      "metadata": {
        "colab": {
          "base_uri": "https://localhost:8080/"
        },
        "id": "vVJtHZwxsdQE",
        "outputId": "cd5aa2fd-2466-42ec-efe3-92994c7f317d"
      },
      "source": [
        "# Annualisierte Portfolio-Volatilität(std) auf Basis zufälliger Gewichtung\n",
        "print('Volatility: {}'.format(round(math.sqrt(np.dot(random_weights.T, np.dot(log_returns.cov() * 252, random_weights))), 3)))"
      ],
      "execution_count": null,
      "outputs": [
        {
          "output_type": "stream",
          "name": "stdout",
          "text": [
            "Volatility: 0.135\n"
          ]
        }
      ]
    },
    {
      "cell_type": "markdown",
      "metadata": {
        "id": "_dxSosfZsdQF"
      },
      "source": [
        "### Monte-Carlo-Simulation\n",
        "#### Definition Hilfsfunktionen"
      ]
    },
    {
      "cell_type": "code",
      "metadata": {
        "id": "2c28JTZ1sdQG"
      },
      "source": [
        "# Funktion zur Berechnung des Portfolio Returns\n",
        "def get_portfolio_returns(weights_, returns_=log_returns):\n",
        "    return np.sum(returns_.mean() * weights_) * 252\n",
        "\n",
        "# Funktion zur Berechnung der Portfolio Volatilität\n",
        "def get_portfolio_volatility(weights_, returns_=log_returns):\n",
        "    return np.sqrt(np.dot(weights_.T, np.dot(returns_.cov() * 252, weights_)))"
      ],
      "execution_count": null,
      "outputs": []
    },
    {
      "cell_type": "markdown",
      "metadata": {
        "id": "qrlWxK-rsdQH"
      },
      "source": [
        "#### Simulation"
      ]
    },
    {
      "cell_type": "code",
      "metadata": {
        "id": "k5NhfQsXsdQH"
      },
      "source": [
        "# Listen zum Speichern der Rechenergebnisse\n",
        "portfolio_return_list = []\n",
        "portfolio_volatility_list = []\n",
        "\n",
        "# Schleife\n",
        "for portfolio in range(2500):\n",
        "\n",
        "    # Bestimmung zufälliger Portfolio Gewichte\n",
        "    temp_weights = np.random.random(number_of_assets)\n",
        "    temp_weights /= np.sum(temp_weights)\n",
        "\n",
        "    # Bestimmung PF-Returns & PF-Volatilität\n",
        "    # Speicherung in jeweilige Liste\n",
        "    portfolio_return_list.append(get_portfolio_returns(temp_weights))\n",
        "    portfolio_volatility_list.append(get_portfolio_volatility(temp_weights))\n",
        "\n",
        "# Umwandlung des Listen-Objekts in ein Numpy-Array\n",
        "portfolio_return_list = np.array(portfolio_return_list)\n",
        "portfolio_volatility_list = np.array(portfolio_volatility_list)\n",
        "\n",
        "# Ermittlung Sharpe-Ratio\n",
        "sharpe_ratio = (portfolio_return_list / portfolio_volatility_list)"
      ],
      "execution_count": null,
      "outputs": []
    },
    {
      "cell_type": "markdown",
      "metadata": {
        "id": "Gh_nQq3XsdQI"
      },
      "source": [
        "#### Grapfische Darstellung"
      ]
    },
    {
      "cell_type": "code",
      "metadata": {
        "colab": {
          "base_uri": "https://localhost:8080/",
          "height": 465
        },
        "id": "BC1CEFdYsdQJ",
        "outputId": "c4909c9d-0a4f-4b1e-a354-10c20c6a2386"
      },
      "source": [
        "fig = plt.figure()\n",
        "# Ergebnnisse Monte-Carlo-Simulation\n",
        "plt.scatter(portfolio_volatility_list, portfolio_return_list,\n",
        "            c=sharpe_ratio,\n",
        "            marker='o',\n",
        "            cmap='coolwarm')\n",
        "# Maximum Sharpe-Portfolio\n",
        "plt.colorbar(label='Sharpe Ratio')\n",
        "plt.plot(portfolio_volatility_list[sharpe_ratio.argmax()],\n",
        "         portfolio_return_list[sharpe_ratio.argmax()],\n",
        "         'y*',\n",
        "         markersize=15.0)\n",
        "# Übrige Einstellungen\n",
        "plt.xlabel('Expected Volatility')\n",
        "plt.ylabel('Expected Return')\n",
        "plt.grid()\n",
        "plt.show()"
      ],
      "execution_count": null,
      "outputs": [
        {
          "output_type": "display_data",
          "data": {
            "text/plain": [
              "<Figure size 800x500 with 2 Axes>"
            ],
            "image/png": "[encoded data removed]"
          },
          "metadata": {
            "needs_background": "light"
          }
        }
      ]
    },
    {
      "cell_type": "markdown",
      "metadata": {
        "id": "WeUWVw4SsdQK"
      },
      "source": [
        "## Portfolio-Optimierung und $\\left(\\mu,\\sigma\\right)$-effizienter Rand\n",
        "### Maximum Sharpe-Portfolio & Minimum-Variance-Portfolio"
      ]
    },
    {
      "cell_type": "code",
      "metadata": {
        "id": "Sh5H-5w3sdQK"
      },
      "source": [
        "# Funktion zur Minimierung des negativen Sharpe-Ratios\n",
        "# Hinweis: Vernachlässigung risikoloser Anlage\n",
        "def min_sharpe(weights_):\n",
        "    return -get_portfolio_returns(weights_) / get_portfolio_volatility(weights_)"
      ],
      "execution_count": null,
      "outputs": []
    },
    {
      "cell_type": "markdown",
      "metadata": {
        "id": "429hKU2XsdQL"
      },
      "source": [
        "#### Definition Nebenbedingungen, Startgewichte"
      ]
    },
    {
      "cell_type": "code",
      "metadata": {
        "id": "-NCC95ztsdQL"
      },
      "source": [
        "# Nebenbedingungen des Optimierungsproblems\n",
        "boundarie_1 = tuple((0, 1) for x in range(number_of_assets)) # Gewichte im Bereich [0, 1]\n",
        "constraint_1 = ({'type': 'eq', 'fun': lambda x:  np.sum(x) - 1}) # PF-Summe Eins\n",
        "\n",
        "# Initialisierung Startgewichte (Gleichgewichtung)\n",
        "equal_weights = np.array(number_of_assets * [1.0 / number_of_assets])"
      ],
      "execution_count": null,
      "outputs": []
    },
    {
      "cell_type": "markdown",
      "metadata": {
        "id": "SgDkebKwsdQM"
      },
      "source": [
        "#### Portfolio-Optimierung"
      ]
    },
    {
      "cell_type": "code",
      "metadata": {
        "colab": {
          "base_uri": "https://localhost:8080/"
        },
        "id": "O3BRlJMqsdQM",
        "outputId": "a51056b1-fa58-4f64-a3ed-000b79057503"
      },
      "source": [
        "# Maximum Sharpe-Portfolio\n",
        "max_sharp = sco.minimize(min_sharpe,\n",
        "                         equal_weights,\n",
        "                         method='SLSQP',\n",
        "                         bounds=boundarie_1,\n",
        "                         constraints=constraint_1)\n",
        "\n",
        "# Ausagbe Return und Volatilität\n",
        "print('Return: {0}, Volatility: {1}'.format(get_portfolio_returns(max_sharp['x']).round(3), get_portfolio_volatility(max_sharp['x']).round(3)))"
      ],
      "execution_count": null,
      "outputs": [
        {
          "output_type": "stream",
          "name": "stdout",
          "text": [
            "Return: 0.161, Volatility: 0.18\n"
          ]
        }
      ]
    },
    {
      "cell_type": "code",
      "metadata": {
        "colab": {
          "base_uri": "https://localhost:8080/"
        },
        "id": "Dl2C0uEPsdQN",
        "outputId": "7d8ffee3-64a1-432d-81e2-f08be390de87"
      },
      "source": [
        "# Minimum-Variance-Portfolio\n",
        "min_var = sco.minimize(get_portfolio_volatility,\n",
        "                       equal_weights,\n",
        "                       method='SLSQP',\n",
        "                       bounds=boundarie_1,\n",
        "                       constraints=constraint_1)\n",
        "\n",
        "# Ausagbe Return und Volatilität\n",
        "print('Return: {0}, Volatility: {1}'.format(get_portfolio_returns(min_var['x']).round(3), get_portfolio_volatility(min_var['x']).round(3)))"
      ],
      "execution_count": null,
      "outputs": [
        {
          "output_type": "stream",
          "name": "stdout",
          "text": [
            "Return: 0.06, Volatility: 0.109\n"
          ]
        }
      ]
    },
    {
      "cell_type": "markdown",
      "metadata": {
        "id": "Ouyu4P-SsdQO"
      },
      "source": [
        "### Effizienter Rand\n",
        "#### Definition Nebenbedingungen"
      ]
    },
    {
      "cell_type": "code",
      "metadata": {
        "id": "-1Ukg-qRsdQO"
      },
      "source": [
        "# Nebenbedingungen des Optimierungsproblems\n",
        "boundarie_2 = tuple((0, 1) for x in equal_weights) # Gewichte im Bereich [0, 1]\n",
        "constraint_2 = ({'type': 'eq', 'fun': lambda x: get_portfolio_returns(x) - pf_return}, # Return Ziel\n",
        "                 {'type': 'eq', 'fun': lambda x: np.sum(x) - 1}) # PF-Summe Eins"
      ],
      "execution_count": null,
      "outputs": []
    },
    {
      "cell_type": "markdown",
      "metadata": {
        "id": "55vvreuNsdQP"
      },
      "source": [
        "#### Portfolio-Optimierung"
      ]
    },
    {
      "cell_type": "code",
      "metadata": {
        "id": "-I1nl_jEsdQP"
      },
      "source": [
        "# Vorgabe Returns\n",
        "pf_returns = np.linspace(0.05, 0.2, 50)\n",
        "\n",
        "# Liste zum Speichern der Rechenergebnisse (Volatilitäten)\n",
        "pf_volatility_list = []\n",
        "\n",
        "# Schleife\n",
        "for pf_return in pf_returns:\n",
        "\n",
        "    # Bestimmung minimaler Volatility für gegebenen Return\n",
        "    pf_volatility = sco.minimize(get_portfolio_volatility,\n",
        "                                 equal_weights,\n",
        "                                 method='SLSQP',\n",
        "                                 bounds=boundarie_2,\n",
        "                                 constraints=constraint_2)\n",
        "    pf_volatility_list.append(pf_volatility['fun'])\n",
        "\n",
        "# Umwandlung  Listen-Objekts in ein Numpy-Array\n",
        "pf_volatility_list = np.array(pf_volatility_list)"
      ],
      "execution_count": null,
      "outputs": []
    },
    {
      "cell_type": "markdown",
      "metadata": {
        "id": "oW3WnUlYsdQQ"
      },
      "source": [
        "#### Grapfische Darstellung"
      ]
    },
    {
      "cell_type": "code",
      "metadata": {
        "colab": {
          "base_uri": "https://localhost:8080/",
          "height": 465
        },
        "id": "3UXpwlmJsdQQ",
        "outputId": "eee67a06-e2c0-486b-ec71-8035d978249f"
      },
      "source": [
        "fig = plt.figure()\n",
        "# Ergebnnisse Monte-Carlo-Simulation\n",
        "plt.scatter(portfolio_volatility_list, portfolio_return_list,\n",
        "            c=sharpe_ratio,\n",
        "            marker='o',\n",
        "            cmap='coolwarm')\n",
        "# Effizienter Rand\n",
        "plt.plot(pf_volatility_list, pf_returns, 'b', lw=4.0)\n",
        "# Maximum Sharpe-Portfolio\n",
        "plt.plot(get_portfolio_volatility(max_sharp['x']),\n",
        "         get_portfolio_returns(max_sharp['x']),\n",
        "         'y*',\n",
        "         markersize=15.0)\n",
        "# Minimum-Variance-Portfolio\n",
        "plt.plot(get_portfolio_volatility(min_var['x']),\n",
        "         get_portfolio_returns(min_var['x']),\n",
        "         'r*',\n",
        "         markersize=15.0)\n",
        "# Übrige Einstellungen\n",
        "plt.xlabel('Expected Volatility')\n",
        "plt.ylabel('Expected Return')\n",
        "plt.colorbar(label='Sharpe Ratio')\n",
        "plt.grid()\n",
        "plt.show()"
      ],
      "execution_count": null,
      "outputs": [
        {
          "output_type": "display_data",
          "data": {
            "text/plain": [
              "<Figure size 800x500 with 2 Axes>"
            ],
            "image/png": "[encoded data removed]"
          },
          "metadata": {
            "needs_background": "light"
          }
        }
      ]
    },
    {
      "cell_type": "markdown",
      "metadata": {
        "id": "w-ncPyR-sdQR"
      },
      "source": [
        "***\n",
        "Dieses Notebook (v1.0) basiert auf der Grundlage von:\n",
        "\n",
        "Python for Finance (2nd ed.) - Mastering Data-Driven Finance\n",
        "<br>\n",
        "© Dr. Yves J. Hilpisch | The Python Quants GmbH\n",
        "<br>\n",
        "https://www.oreilly.com/library/view/python-for-finance/9781492024323/\n",
        "<br>\n",
        "https://github.com/yhilpisch/py4fi2nd/blob/master/code/ch13/13_a_statistics.ipynb"
      ]
    }
  ]
}