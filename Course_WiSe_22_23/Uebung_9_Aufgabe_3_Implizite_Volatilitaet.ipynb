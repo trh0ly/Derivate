{
  "cells": [
    {
      "cell_type": "markdown",
      "metadata": {
        "id": "QAFmFRiAqaU2"
      },
      "source": [
        "# Übung 9, Aufgabe 3: Implizite Volatilität\n",
        "## Import der Programmbibliotheken"
      ]
    },
    {
      "cell_type": "code",
      "source": [
        "!pip install yfinance"
      ],
      "metadata": {
        "colab": {
          "base_uri": "https://localhost:8080/"
        },
        "id": "MfSbn24yqi7A",
        "outputId": "315a6e0b-6dec-4b35-d570-50c7f72bebeb"
      },
      "execution_count": null,
      "outputs": [
        {
          "output_type": "stream",
          "name": "stdout",
          "text": [
            "Requirement already satisfied: yfinance in /usr/local/lib/python3.7/dist-packages (0.1.68)\n",
            "Requirement already satisfied: requests>=2.26 in /usr/local/lib/python3.7/dist-packages (from yfinance) (2.27.0)\n",
            "Requirement already satisfied: multitasking>=0.0.7 in /usr/local/lib/python3.7/dist-packages (from yfinance) (0.0.10)\n",
            "Requirement already satisfied: lxml>=4.5.1 in /usr/local/lib/python3.7/dist-packages (from yfinance) (4.7.1)\n",
            "Requirement already satisfied: numpy>=1.15 in /usr/local/lib/python3.7/dist-packages (from yfinance) (1.19.5)\n",
            "Requirement already satisfied: pandas>=0.24 in /usr/local/lib/python3.7/dist-packages (from yfinance) (1.1.5)\n",
            "Requirement already satisfied: python-dateutil>=2.7.3 in /usr/local/lib/python3.7/dist-packages (from pandas>=0.24->yfinance) (2.8.2)\n",
            "Requirement already satisfied: pytz>=2017.2 in /usr/local/lib/python3.7/dist-packages (from pandas>=0.24->yfinance) (2018.9)\n",
            "Requirement already satisfied: six>=1.5 in /usr/local/lib/python3.7/dist-packages (from python-dateutil>=2.7.3->pandas>=0.24->yfinance) (1.15.0)\n",
            "Requirement already satisfied: charset-normalizer~=2.0.0 in /usr/local/lib/python3.7/dist-packages (from requests>=2.26->yfinance) (2.0.9)\n",
            "Requirement already satisfied: urllib3<1.27,>=1.21.1 in /usr/local/lib/python3.7/dist-packages (from requests>=2.26->yfinance) (1.24.3)\n",
            "Requirement already satisfied: certifi>=2017.4.17 in /usr/local/lib/python3.7/dist-packages (from requests>=2.26->yfinance) (2021.10.8)\n",
            "Requirement already satisfied: idna<4,>=2.5 in /usr/local/lib/python3.7/dist-packages (from requests>=2.26->yfinance) (2.10)\n"
          ]
        }
      ]
    },
    {
      "cell_type": "code",
      "execution_count": null,
      "metadata": {
        "id": "oncyjnBpqaU3"
      },
      "outputs": [],
      "source": [
        "from ipywidgets import interact, interactive, fixed, interact_manual\n",
        "from IPython.core.display import display, HTML\n",
        "import matplotlib.pyplot as plt\n",
        "from scipy.misc import derivative\n",
        "from ipywidgets import widgets\n",
        "from scipy.stats import norm\n",
        "import yfinance as yf\n",
        "import pandas as pd\n",
        "import numpy as np\n",
        "import operator"
      ]
    },
    {
      "cell_type": "markdown",
      "metadata": {
        "id": "s2xeN6dnqaU6"
      },
      "source": [
        "## Grafikeinstellungen"
      ]
    },
    {
      "cell_type": "code",
      "execution_count": null,
      "metadata": {
        "colab": {
          "base_uri": "https://localhost:8080/",
          "height": 17
        },
        "id": "Yf5RBBThqaU8",
        "outputId": "3073605a-4820-4798-bf58-c56b6e955e4f"
      },
      "outputs": [
        {
          "output_type": "display_data",
          "data": {
            "application/javascript": [
              "IPython.OutputArea.auto_scroll_threshold = 9999;"
            ],
            "text/plain": [
              "<IPython.core.display.Javascript object>"
            ]
          },
          "metadata": {}
        }
      ],
      "source": [
        "%%javascript\n",
        "IPython.OutputArea.auto_scroll_threshold = 9999;"
      ]
    },
    {
      "cell_type": "code",
      "execution_count": null,
      "metadata": {
        "id": "As8XexrEqaU9"
      },
      "outputs": [],
      "source": [
        "%matplotlib inline\n",
        "\n",
        "SCREEN_WIDTH = 100\n",
        "SIZE = [15, 10]\n",
        "\n",
        "pd.set_option('display.width', SCREEN_WIDTH)\n",
        "centered = operator.methodcaller('center', SCREEN_WIDTH)\n",
        "plt.rcParams[\"figure.figsize\"] = SIZE[0], SIZE[1]"
      ]
    },
    {
      "cell_type": "markdown",
      "metadata": {
        "id": "kcv1TS_MqaU-"
      },
      "source": [
        "## Berechnung der impliziten Volatilität mittels der Newton-Raphson Methode\n",
        "### Hilfsfunktionen"
      ]
    },
    {
      "cell_type": "code",
      "execution_count": null,
      "metadata": {
        "id": "Yw0PRrlfqaU_"
      },
      "outputs": [],
      "source": [
        "# Berechnung Preis Call nach Black-Scholes\n",
        "def bs_call(S, B, T, r, vol):\n",
        "    d1 = (np.log(S / B) + (r + 0.5 * vol**2) * T) / (vol * np.sqrt(T))\n",
        "    d2 = d1 - vol * np.sqrt(T)\n",
        "    return (S * norm.cdf(d1) - np.exp(-r * T) * B * norm.cdf(d2))\n",
        "\n",
        "# Berechnunng Vega\n",
        "def calc_vega(S, B, T, r, sigma):\n",
        "    d1 = (np.log(S / B) + (r + 0.5 * sigma ** 2) * T) / (sigma * np.sqrt(T))\n",
        "    return (S * norm.pdf(d1) * np.sqrt(T))"
      ]
    },
    {
      "cell_type": "markdown",
      "metadata": {
        "id": "tZXkjWfsqaVA"
      },
      "source": [
        "### Implementierung der Newton-Raphson Methode"
      ]
    },
    {
      "cell_type": "code",
      "execution_count": null,
      "metadata": {
        "id": "27VPp34tqaVA"
      },
      "outputs": [],
      "source": [
        "def calc_implied_vol(S, B, T, r, c_market, tol=0.00001, max_iter=7500, vol_old=0.3):\n",
        "\n",
        "    for i in range(max_iter):\n",
        "        # Berechnung des theoretischen Call-Preises\n",
        "        bs_price = bs_call(S, B, T, r, vol_old)\n",
        "        # Berechnung Vega\n",
        "        vega = (calc_vega(S, B, T, r, vol_old))\n",
        "        # Berechnung der Differenz zwischen theoretischen und empirischen Call-Preis\n",
        "        diff = (bs_price - c_market)\n",
        "\n",
        "        # Neue Approximation der Volatilität\n",
        "        vol_new = vol_old - (diff / vega)\n",
        "        # Berechnung Call-Preis unter Verwendung der neuen Approximation\n",
        "        new_bs_price = bs_call(S, B, T, r, vol_new)\n",
        "\n",
        "        # Abbruchkriterium\n",
        "        if (abs(vol_old - vol_new) < tol or abs(new_bs_price - c_market) < tol):\n",
        "            break\n",
        "\n",
        "        # Update der Volatilität\n",
        "        vol_old = vol_new\n",
        "\n",
        "    # Ausgabe der berechneten Volatilität\n",
        "    implied_vol = vol_new\n",
        "    return implied_vol"
      ]
    },
    {
      "cell_type": "markdown",
      "metadata": {
        "id": "GshLDMFEqaVC"
      },
      "source": [
        "### Berechnung der impliziten Volatilität an einem Beispiel"
      ]
    },
    {
      "cell_type": "code",
      "execution_count": null,
      "metadata": {
        "colab": {
          "base_uri": "https://localhost:8080/"
        },
        "id": "HQRLNbgVqaVC",
        "outputId": "be9fa0ff-06a4-4376-99ef-cd9d5b0c8d2c"
      },
      "outputs": [
        {
          "output_type": "stream",
          "name": "stdout",
          "text": [
            "Die implizite Volatilität beträgt 28.86%.\n"
          ]
        }
      ],
      "source": [
        "S = 30\n",
        "B = 28\n",
        "T = 0.5\n",
        "r = 0.025\n",
        "c_market = 3.7\n",
        "\n",
        "print('Die implizite Volatilität beträgt {}%.'.format(round((calc_implied_vol(S, B, T, r, c_market) * 100), 2)))"
      ]
    },
    {
      "cell_type": "markdown",
      "metadata": {
        "id": "MSJQsrrMqaVD"
      },
      "source": [
        "## Analyse der impliziten Volatilität anhand von Marktdaten"
      ]
    },
    {
      "cell_type": "code",
      "execution_count": null,
      "metadata": {
        "colab": {
          "base_uri": "https://localhost:8080/",
          "height": 1000
        },
        "id": "kgcGcrhxqaVE",
        "outputId": "80386496-e11c-4e17-b003-4d28a9662391"
      },
      "outputs": [
        {
          "output_type": "stream",
          "name": "stdout",
          "text": [
            "#----------------------------------------------------------------------------------------------------#\n",
            "|                           Folgende Unternehmen können ausgewählt werden:                           | \n",
            "#----------------------------------------------------------------------------------------------------#\n",
            "0) Apple\n",
            "1) Amazon\n",
            "2) Microsoft\n",
            "3) Tesla\n",
            "#----------------------------------------------------------------------------------------------------#\n",
            "|                   Bitte geben Sie namentlich ein Unternehmen aus der Liste ein:                    | Microsoft\n",
            "#----------------------------------------------------------------------------------------------------#\n",
            "|               Für Microsoft sind Optionen mit den folgenden Fälligkeiten verfügbar:                | \n",
            "#----------------------------------------------------------------------------------------------------#\n",
            "0) 2022-01-07\n",
            "1) 2022-01-14\n",
            "2) 2022-01-21\n",
            "3) 2022-01-28\n",
            "4) 2022-02-04\n",
            "5) 2022-02-11\n",
            "6) 2022-02-18\n",
            "7) 2022-03-18\n",
            "8) 2022-04-14\n",
            "9) 2022-06-17\n",
            "10) 2022-07-15\n",
            "11) 2022-09-16\n",
            "12) 2023-01-20\n",
            "13) 2023-03-17\n",
            "14) 2023-06-16\n",
            "15) 2024-01-19\n",
            "#----------------------------------------------------------------------------------------------------#\n",
            "|                     Bitte geben Sie die Nummer der gewünschten Fälligkeit ein:                     | 5\n",
            "#----------------------------------------------------------------------------------------------------#\n",
            "|                       Ausgewählt wurde Microsoft zur Fälligkeit 2022-02-11.                        | \n",
            "#----------------------------------------------------------------------------------------------------#\n",
            "            Bezeichnung  Strike  Bid  Ask  Implizite Volatilität  InTheMoney\n",
            "0   MSFT220211P00230000   230.0  0.0  0.0               0.250007       False\n",
            "1   MSFT220211P00240000   240.0  0.0  0.0               0.250007       False\n",
            "2   MSFT220211P00280000   280.0  0.0  0.0               0.125009       False\n",
            "3   MSFT220211P00285000   285.0  0.0  0.0               0.062509       False\n",
            "4   MSFT220211P00295000   295.0  0.0  0.0               0.062509       False\n",
            "5   MSFT220211P00300000   300.0  0.0  0.0               0.062509       False\n",
            "6   MSFT220211P00305000   305.0  0.0  0.0               0.031260       False\n",
            "7   MSFT220211P00310000   310.0  0.0  0.0               0.031260       False\n",
            "8   MSFT220211P00315000   315.0  0.0  0.0               0.015635       False\n",
            "9   MSFT220211P00320000   320.0  0.0  0.0               0.007822       False\n",
            "10  MSFT220211P00325000   325.0  0.0  0.0               0.000010        True\n",
            "11  MSFT220211P00330000   330.0  0.0  0.0               0.000010        True\n",
            "12  MSFT220211P00335000   335.0  0.0  0.0               0.000010        True\n",
            "13  MSFT220211P00340000   340.0  0.0  0.0               0.000010        True\n",
            "14  MSFT220211P00345000   345.0  0.0  0.0               0.000010        True\n",
            "15  MSFT220211P00350000   350.0  0.0  0.0               0.000010        True\n",
            "16  MSFT220211P00360000   360.0  0.0  0.0               0.000010        True\n",
            "#----------------------------------------------------------------------------------------------------#\n"
          ]
        },
        {
          "output_type": "display_data",
          "data": {
            "image/png": "[encoded data removed]",
            "text/plain": [
              "<Figure size 1080x720 with 1 Axes>"
            ]
          },
          "metadata": {
            "needs_background": "light"
          }
        }
      ],
      "source": [
        "# Dictonary in dem die Ticker-Kürzel hinterlegt sind\n",
        "company_dict = {\"Apple\": 'AAPL',\n",
        "                \"Amazon\": 'AMZN',\n",
        "                \"Microsoft\": 'MSFT',\n",
        "                \"Tesla\": 'TSLA'}\n",
        "\n",
        "# Abfrage zur Auswahl des Unternehmens\n",
        "print('#' + SCREEN_WIDTH * '-' + '#')\n",
        "print('|' + centered('Folgende Unternehmen können ausgewählt werden:') + '| ')\n",
        "print('#' + SCREEN_WIDTH * '-' + '#')\n",
        "counter = 0\n",
        "for key, value in company_dict.items() :\n",
        "    print(str(counter) + ') ' + str(key))\n",
        "    counter += 1\n",
        "print('#' + SCREEN_WIDTH * '-' + '#')\n",
        "selected_company = input('|' + centered('Bitte geben Sie namentlich ein Unternehmen aus der Liste ein:') + '| ')\n",
        "\n",
        "# Ausgabe verfügbare Fälligkeiten\n",
        "selected_company_obj = yf.Ticker(company_dict[selected_company])\n",
        "print('#' + SCREEN_WIDTH * '-' + '#')\n",
        "print('|' + centered('Für ' + str(selected_company) + ' sind Optionen mit den folgenden Fälligkeiten verfügbar:') + '| ')\n",
        "print('#' + SCREEN_WIDTH * '-' + '#')\n",
        "maturitys = selected_company_obj.options\n",
        "counter = 0\n",
        "for maturity in maturitys:\n",
        "    print(str(counter) + ') ' + str(maturity))\n",
        "    counter += 1\n",
        "print('#' + SCREEN_WIDTH * '-' + '#')\n",
        "\n",
        "# Wahl eines Fälligkeitstermins\n",
        "selected_maturity = int(input('|' + centered('Bitte geben Sie die Nummer der gewünschten Fälligkeit ein:') + '| '))\n",
        "print('#' + SCREEN_WIDTH * '-' + '#')\n",
        "company_options = selected_company_obj.option_chain(selected_company_obj.options[selected_maturity])\n",
        "option_data = company_options.puts\n",
        "\n",
        "# Vereinfachter DataFrame mit Informationen zu den Kontrakten\n",
        "stock_overview = pd.DataFrame({'Bezeichnung':option_data['contractSymbol'], 'Strike':option_data['strike'], 'Bid':option_data['bid'], 'Ask':option_data['ask'], 'Implizite Volatilität':option_data['impliedVolatility'], 'InTheMoney':option_data['inTheMoney']})\n",
        "print('|' + centered('Ausgewählt wurde ' + str(selected_company) + ' zur Fälligkeit ' + str(selected_company_obj.options[selected_maturity]) + '.') + '| ')\n",
        "print('#' + SCREEN_WIDTH * '-' + '#')\n",
        "print(stock_overview)\n",
        "print('#' + SCREEN_WIDTH * '-' + '#')\n",
        "\n",
        "# Generierung der Grafik\n",
        "x = option_data['strike']\n",
        "y = list(option_data['impliedVolatility'])\n",
        "plt.title('Volatility Skew', fontsize=30)\n",
        "plt.ylabel('Implizite Volatilität', fontsize=30)\n",
        "plt.xlabel('Basispreis', fontsize=30)\n",
        "plt.xticks(fontsize=25)\n",
        "plt.yticks(fontsize=25)\n",
        "plt.plot(x,y, 'o')\n",
        "plt.grid()\n",
        "plt.show()"
      ]
    },
    {
      "cell_type": "markdown",
      "metadata": {
        "id": "XUCF-n3pqaVF"
      },
      "source": [
        "## Exkurs: Funktionsprinzip Newton-Raphson Methode"
      ]
    },
    {
      "cell_type": "code",
      "execution_count": null,
      "metadata": {
        "id": "yc5lkR5VqaVG"
      },
      "outputs": [],
      "source": [
        "# Erzeugung Wertebereich\n",
        "x = np.linspace(-1.5, 2.2, 500)\n",
        "\n",
        "# Definition Funktion\n",
        "def f(x):\n",
        "    return x**2\n",
        "\n",
        "# Erzeugt Tangente, Nullstelle\n",
        "def f_line(f, x, x_n):\n",
        "    slope = derivative(f, x_n, dx=0.1)\n",
        "    x_nn = x_n - f(x_n) / slope\n",
        "    return slope * (x - x_n) + f(x_n), x_nn\n",
        "\n",
        "# Hilfsfunktion zur Erzeugung der interaktiven Grafik\n",
        "def update_plot(order):\n",
        "    fig, ax = plt.subplots(1, figsize=(13, 6.5))\n",
        "    x_n = 2\n",
        "    ax.clear()\n",
        "    ax.plot(x, f(x), label='f(x)=x^2')\n",
        "    ax.axhline(0, color='gray', lw=0.5)\n",
        "\n",
        "    for i in range(0, order):\n",
        "        if i >= 1:\n",
        "            ax.plot(x, f_l, '--', lw=1)\n",
        "        ax.plot(x_n, f(x_n), 'kd', label=r'$f(x_{}={:.2f})={:.3f}$'.format(i + 1, x_n, f(x_n)))\n",
        "        ax.vlines(x_n, 0, f(x_n), color='black', linestyle=':', lw=1)\n",
        "        f_l, x_n = f_line(f, x, x_n)\n",
        "\n",
        "    ax.set_ylim(-1, 5)\n",
        "    ax.set_xlim(-1.0, 2.2)\n",
        "    ax.legend(loc=4)\n",
        "    ax.grid()"
      ]
    },
    {
      "cell_type": "markdown",
      "metadata": {
        "id": "k_BI0rqPqaVG"
      },
      "source": [
        "### Ausgabe interaktive Grafik"
      ]
    },
    {
      "cell_type": "code",
      "execution_count": null,
      "metadata": {
        "colab": {
          "base_uri": "https://localhost:8080/",
          "height": 437,
          "referenced_widgets": [
            "7898c8689bb64541b59924b834d5955c",
            "211348c2c4d04e66ac1b3838504611f5",
            "e416c650240d4ad09e911369c4293e3e",
            "b3d978487ac84df5a75ab1de2c80c545",
            "4cd087584904458abe6cbf50768a7e9a",
            "04db63995d3445db9af946ca951f119f",
            "f98d0a79033a495e8182dcf75d518f99"
          ]
        },
        "id": "MZx1c5IPqaVH",
        "outputId": "0767d24a-08d9-4ac8-ac88-1dfc7e14021d"
      },
      "outputs": [
        {
          "output_type": "display_data",
          "data": {
            "application/vnd.jupyter.widget-view+json": {
              "model_id": "7898c8689bb64541b59924b834d5955c",
              "version_minor": 0,
              "version_major": 2
            },
            "text/plain": [
              "interactive(children=(IntSlider(value=1, description='order', max=6, min=1), Output()), _dom_classes=('widget-…"
            ]
          },
          "metadata": {}
        }
      ],
      "source": [
        "order = widgets.IntSlider(min=1, max=6, value=1, description='order')\n",
        "interact(update_plot, order=order);"
      ]
    }
  ],
  "metadata": {
    "kernelspec": {
      "display_name": "Python 3",
      "language": "python",
      "name": "python3"
    },
    "language_info": {
      "codemirror_mode": {
        "name": "ipython",
        "version": 3
      },
      "file_extension": ".py",
      "mimetype": "text/x-python",
      "name": "python",
      "nbconvert_exporter": "python",
      "pygments_lexer": "ipython3",
      "version": "3.8.5"
    },
    "colab": {
      "provenance": []
    },
    "widgets": {
      "application/vnd.jupyter.widget-state+json": {
        "7898c8689bb64541b59924b834d5955c": {
          "model_module": "@jupyter-widgets/controls",
          "model_name": "VBoxModel",
          "model_module_version": "1.5.0",
          "state": {
            "_view_name": "VBoxView",
            "_dom_classes": [
              "widget-interact"
            ],
            "_model_name": "VBoxModel",
            "_view_module": "@jupyter-widgets/controls",
            "_model_module_version": "1.5.0",
            "_view_count": null,
            "_view_module_version": "1.5.0",
            "box_style": "",
            "layout": "IPY_MODEL_211348c2c4d04e66ac1b3838504611f5",
            "_model_module": "@jupyter-widgets/controls",
            "children": [
              "IPY_MODEL_e416c650240d4ad09e911369c4293e3e",
              "IPY_MODEL_b3d978487ac84df5a75ab1de2c80c545"
            ]
          }
        },
        "211348c2c4d04e66ac1b3838504611f5": {
          "model_module": "@jupyter-widgets/base",
          "model_name": "LayoutModel",
          "model_module_version": "1.2.0",
          "state": {
            "_view_name": "LayoutView",
            "grid_template_rows": null,
            "right": null,
            "justify_content": null,
            "_view_module": "@jupyter-widgets/base",
            "overflow": null,
            "_model_module_version": "1.2.0",
            "_view_count": null,
            "flex_flow": null,
            "width": null,
            "min_width": null,
            "border": null,
            "align_items": null,
            "bottom": null,
            "_model_module": "@jupyter-widgets/base",
            "top": null,
            "grid_column": null,
            "overflow_y": null,
            "overflow_x": null,
            "grid_auto_flow": null,
            "grid_area": null,
            "grid_template_columns": null,
            "flex": null,
            "_model_name": "LayoutModel",
            "justify_items": null,
            "grid_row": null,
            "max_height": null,
            "align_content": null,
            "visibility": null,
            "align_self": null,
            "height": null,
            "min_height": null,
            "padding": null,
            "grid_auto_rows": null,
            "grid_gap": null,
            "max_width": null,
            "order": null,
            "_view_module_version": "1.2.0",
            "grid_template_areas": null,
            "object_position": null,
            "object_fit": null,
            "grid_auto_columns": null,
            "margin": null,
            "display": null,
            "left": null
          }
        },
        "e416c650240d4ad09e911369c4293e3e": {
          "model_module": "@jupyter-widgets/controls",
          "model_name": "IntSliderModel",
          "model_module_version": "1.5.0",
          "state": {
            "_view_name": "IntSliderView",
            "style": "IPY_MODEL_4cd087584904458abe6cbf50768a7e9a",
            "_dom_classes": [],
            "description": "order",
            "step": 1,
            "_model_name": "IntSliderModel",
            "orientation": "horizontal",
            "max": 6,
            "_view_module": "@jupyter-widgets/controls",
            "_model_module_version": "1.5.0",
            "value": 6,
            "_view_count": null,
            "disabled": false,
            "_view_module_version": "1.5.0",
            "min": 1,
            "continuous_update": true,
            "readout_format": "d",
            "description_tooltip": null,
            "readout": true,
            "_model_module": "@jupyter-widgets/controls",
            "layout": "IPY_MODEL_04db63995d3445db9af946ca951f119f"
          }
        },
        "b3d978487ac84df5a75ab1de2c80c545": {
          "model_module": "@jupyter-widgets/output",
          "model_name": "OutputModel",
          "model_module_version": "1.0.0",
          "state": {
            "_view_name": "OutputView",
            "msg_id": "",
            "_dom_classes": [],
            "_model_name": "OutputModel",
            "outputs": [
              {
                "output_type": "display_data",
                "data": {
                  "image/png": "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\n",
                  "text/plain": "<Figure size 936x468 with 1 Axes>"
                },
                "metadata": {
                  "needs_background": "light"
                }
              }
            ],
            "_view_module": "@jupyter-widgets/output",
            "_model_module_version": "1.0.0",
            "_view_count": null,
            "_view_module_version": "1.0.0",
            "layout": "IPY_MODEL_f98d0a79033a495e8182dcf75d518f99",
            "_model_module": "@jupyter-widgets/output"
          }
        },
        "4cd087584904458abe6cbf50768a7e9a": {
          "model_module": "@jupyter-widgets/controls",
          "model_name": "SliderStyleModel",
          "model_module_version": "1.5.0",
          "state": {
            "_view_name": "StyleView",
            "handle_color": null,
            "_model_name": "SliderStyleModel",
            "description_width": "",
            "_view_module": "@jupyter-widgets/base",
            "_model_module_version": "1.5.0",
            "_view_count": null,
            "_view_module_version": "1.2.0",
            "_model_module": "@jupyter-widgets/controls"
          }
        },
        "04db63995d3445db9af946ca951f119f": {
          "model_module": "@jupyter-widgets/base",
          "model_name": "LayoutModel",
          "model_module_version": "1.2.0",
          "state": {
            "_view_name": "LayoutView",
            "grid_template_rows": null,
            "right": null,
            "justify_content": null,
            "_view_module": "@jupyter-widgets/base",
            "overflow": null,
            "_model_module_version": "1.2.0",
            "_view_count": null,
            "flex_flow": null,
            "width": null,
            "min_width": null,
            "border": null,
            "align_items": null,
            "bottom": null,
            "_model_module": "@jupyter-widgets/base",
            "top": null,
            "grid_column": null,
            "overflow_y": null,
            "overflow_x": null,
            "grid_auto_flow": null,
            "grid_area": null,
            "grid_template_columns": null,
            "flex": null,
            "_model_name": "LayoutModel",
            "justify_items": null,
            "grid_row": null,
            "max_height": null,
            "align_content": null,
            "visibility": null,
            "align_self": null,
            "height": null,
            "min_height": null,
            "padding": null,
            "grid_auto_rows": null,
            "grid_gap": null,
            "max_width": null,
            "order": null,
            "_view_module_version": "1.2.0",
            "grid_template_areas": null,
            "object_position": null,
            "object_fit": null,
            "grid_auto_columns": null,
            "margin": null,
            "display": null,
            "left": null
          }
        },
        "f98d0a79033a495e8182dcf75d518f99": {
          "model_module": "@jupyter-widgets/base",
          "model_name": "LayoutModel",
          "model_module_version": "1.2.0",
          "state": {
            "_view_name": "LayoutView",
            "grid_template_rows": null,
            "right": null,
            "justify_content": null,
            "_view_module": "@jupyter-widgets/base",
            "overflow": null,
            "_model_module_version": "1.2.0",
            "_view_count": null,
            "flex_flow": null,
            "width": null,
            "min_width": null,
            "border": null,
            "align_items": null,
            "bottom": null,
            "_model_module": "@jupyter-widgets/base",
            "top": null,
            "grid_column": null,
            "overflow_y": null,
            "overflow_x": null,
            "grid_auto_flow": null,
            "grid_area": null,
            "grid_template_columns": null,
            "flex": null,
            "_model_name": "LayoutModel",
            "justify_items": null,
            "grid_row": null,
            "max_height": null,
            "align_content": null,
            "visibility": null,
            "align_self": null,
            "height": null,
            "min_height": null,
            "padding": null,
            "grid_auto_rows": null,
            "grid_gap": null,
            "max_width": null,
            "order": null,
            "_view_module_version": "1.2.0",
            "grid_template_areas": null,
            "object_position": null,
            "object_fit": null,
            "grid_auto_columns": null,
            "margin": null,
            "display": null,
            "left": null
          }
        }
      }
    }
  },
  "nbformat": 4,
  "nbformat_minor": 0
}