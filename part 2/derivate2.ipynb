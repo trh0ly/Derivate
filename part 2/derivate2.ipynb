{
 "cells": [
  {
   "cell_type": "markdown",
   "metadata": {},
   "source": [
    "# Python for Finance im Mastermodul \"Termingeschäfte und Finanzderivate\" - Teil 2\n",
    "___\n",
    "Dieses Jupyter Notebook basiert auf den Beispielen aus \"Python for Finance - 2nd Edition\" von Yves Hilpisch: http://shop.oreilly.com/product/0636920117728.do\n",
    "<br>\n",
    "Sämtliche Beispiele sind zu finden unter: https://github.com/yhilpisch/py4fi2nd\n",
    "\n",
    "### Urheberrechtsinformationen:\n",
    "\n",
    "Python for Finance, 2nd Edition, by Dr. Yves J. Hilpisch (O'Reilly). Copyright 2019 Yves Hilpisch, 978-1-492-02433-0\n",
    "<br>\n",
    "___\n",
    "Version 0.1.1\n",
    "<br>\n",
    "Weitere Projekte sind zu finden unter: https://github.com/trh0ly"
   ]
  },
  {
   "cell_type": "markdown",
   "metadata": {},
   "source": [
    "## Grundlegende Einstellungen:\n",
    "\n",
    "Zunächst müssen die notwendigen Pakete (auch Module) importiert werden, damit auf diese zugegriffen werden kann. "
   ]
  },
  {
   "cell_type": "code",
   "execution_count": null,
   "metadata": {},
   "outputs": [],
   "source": [
    "import numpy as np # Programmbibliothek die eine einfache Handhabung von Vektoren, Matrizen oder generell großen mehrdimensionalen Arrays ermöglicht\n",
    "import datetime # Das datetime-Modul stellt Klassen bereit, mit denen Datums- und Uhrzeitangaben auf einfache und komplexe Weise bearbeitet werden können\n",
    "import operator # Programmbibliothek, welche die Ausgaben übersichtlicher gestaltet\n",
    "import matplotlib.pyplot as plt # Programmbibliothek die es erlaubt mathematische Darstellungen aller Art anzufertigen\n",
    "from valuation_mcs_european import valuation_mcs_european\n",
    "from plot_option_stats import plot_option_stats\n",
    "from geometric_brownian_motion import geometric_brownian_motion\n",
    "import datetime as dt\n",
    "from get_year_deltas import get_year_deltas\n",
    "from constant_short_rate import constant_short_rate\n",
    "from market_environment import market_environment"
   ]
  },
  {
   "cell_type": "markdown",
   "metadata": {},
   "source": [
    "Anschließend werden Einstellungen definiert, die die Formatierung der Ausgaben betreffen.\n",
    "Hierfür wird das Modul `operator` genutzt.\n",
    "Außerdem wird die Breite des im Folgenden genutzten DataFrames erhöht und die Größe der Grafiken modifiziert, welche später angezeigt werden sollen."
   ]
  },
  {
   "cell_type": "code",
   "execution_count": null,
   "metadata": {},
   "outputs": [],
   "source": [
    "%%javascript\n",
    "IPython.OutputArea.auto_scroll_threshold = 9999;"
   ]
  },
  {
   "cell_type": "code",
   "execution_count": null,
   "metadata": {},
   "outputs": [],
   "source": [
    "from IPython.core.display import display, HTML\n",
    "display(HTML(\"<style>.container { width:100% !important; }</style>\"))\n",
    "\n",
    "##########################################################################\n",
    "#-------------------------------------------------------------------------\n",
    "\n",
    "SCREEN_WIDTH = 125 # Breite Outputbox\n",
    "SIZE = [15,10] # Größe Grafiken / Textgröße\n",
    "\n",
    "#-------------------------------------------------------------------------\n",
    "##########################################################################\n",
    "\n",
    "centered = operator.methodcaller('center', SCREEN_WIDTH)\n",
    "plt.rcParams[\"figure.figsize\"] = SIZE[0],SIZE[1] "
   ]
  },
  {
   "cell_type": "markdown",
   "metadata": {},
   "source": [
    "Beschreibung"
   ]
  },
  {
   "cell_type": "code",
   "execution_count": null,
   "metadata": {},
   "outputs": [],
   "source": [
    "me_gbm = market_environment('me_gbm', dt.datetime(2020, 1, 1))\n",
    "\n",
    "me_gbm.add_constant('initial_value', 36.) \n",
    "me_gbm.add_constant('volatility', 0.2)\n",
    "me_gbm.add_constant('final_date', dt.datetime(2020, 12, 31))\n",
    "me_gbm.add_constant('currency', 'EUR')\n",
    "me_gbm.add_constant('frequency', 'M')\n",
    "me_gbm.add_constant('paths', 10000)\n",
    "\n",
    "csr = constant_short_rate('csr', 0.06)\n",
    "me_gbm.add_curve('discount_curve', csr)\n",
    "\n",
    "gbm = geometric_brownian_motion('gbm', me_gbm)\n",
    "\n",
    "me_call = market_environment('me_call', me_gbm.pricing_date)\n",
    "me_call.add_constant('strike', 40.)\n",
    "me_call.add_constant('maturity', dt.datetime(2020, 12, 31))\n",
    "me_call.add_constant('currency', ' EUR')\n",
    "\n",
    "payoff_func = 'np.maximum(maturity_value - strike, 0)'\n",
    "\n",
    "eur_call = valuation_mcs_european('eur_call', underlying=gbm, mar_env=me_call, payoff_func=payoff_func)\n",
    "\n",
    "#%time eur_call.present_value()\n",
    "#%time eur_call.delta()\n",
    "#%time eur_call.vega()\n",
    "\n",
    "#%time\n",
    "s_list = np.arange(34., 46.1, 2.)\n",
    "p_list = []; d_list = []; v_list = []\n",
    "\n",
    "for s in s_list:\n",
    "    eur_call.update(initial_value=s)\n",
    "    p_list.append(eur_call.present_value(fixed_seed=True))\n",
    "    d_list.append(eur_call.delta())\n",
    "    v_list.append(eur_call.vega())\n",
    "\n",
    "plot_option_stats(s_list, p_list, d_list, v_list)"
   ]
  },
  {
   "cell_type": "markdown",
   "metadata": {},
   "source": [
    "Beschreibung"
   ]
  },
  {
   "cell_type": "code",
   "execution_count": null,
   "metadata": {},
   "outputs": [],
   "source": [
    "payoff_func = 'np.maximum(0.33 * '\n",
    "payoff_func += '(maturity_value + max_value) - 40, 0)'\n",
    "\n",
    "eur_as_call = valuation_mcs_european('eur_as_call', underlying=gbm, mar_env=me_call, payoff_func=payoff_func)\n",
    "\n",
    "#%time\n",
    "s_list = np.arange(34., 46.1, 2.)\n",
    "p_list = []; d_list = []; v_list = []\n",
    "\n",
    "for s in s_list:\n",
    "    eur_as_call.update(s)\n",
    "    p_list.append(eur_as_call.present_value(fixed_seed=True))\n",
    "    d_list.append(eur_as_call.delta())\n",
    "    v_list.append(eur_as_call.vega())\n",
    "plot_option_stats(s_list, p_list, d_list, v_list)"
   ]
  }
 ],
 "metadata": {
  "kernelspec": {
   "display_name": "Python 3",
   "language": "python",
   "name": "python3"
  },
  "language_info": {
   "codemirror_mode": {
    "name": "ipython",
    "version": 3
   },
   "file_extension": ".py",
   "mimetype": "text/x-python",
   "name": "python",
   "nbconvert_exporter": "python",
   "pygments_lexer": "ipython3",
   "version": "3.7.3"
  }
 },
 "nbformat": 4,
 "nbformat_minor": 2
}
