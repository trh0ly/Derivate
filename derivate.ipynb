{
 "cells": [
  {
   "cell_type": "markdown",
   "metadata": {},
   "source": [
    "# Python for Finance im Mastermodul \"Termingeschäfte und Finanzderivate\"\n",
    "___\n",
    "Dieses Jupyter Notebook basiert auf den Beispielen aus \"Python for Finance - Second Edition\" von Yuxing Yan: https://www.packtpub.com/big-data-and-business-intelligence/python-finance-second-edition\n",
    "<br>\n",
    "Sämtliche Beispiele sind in leicht abgewandeltet Form zu finden unter: https://github.com/PacktPublishing/Python-for-Finance-Second-Edition\n",
    "\n",
    "### Urheberrechtsinformationen:\n",
    "\n",
    "MIT License\n",
    "\n",
    "Copyright (c) 2017 Packt\n",
    "\n",
    "Permission is hereby granted, free of charge, to any person obtaining a copy\n",
    "of this software and associated documentation files (the \"Software\"), to deal\n",
    "in the Software without restriction, including without limitation the rights\n",
    "to use, copy, modify, merge, publish, distribute, sublicense, and/or sell\n",
    "copies of the Software, and to permit persons to whom the Software is\n",
    "furnished to do so, subject to the following conditions:\n",
    "\n",
    "The above copyright notice and this permission notice shall be included in all\n",
    "copies or substantial portions of the Software.\n",
    "\n",
    "THE SOFTWARE IS PROVIDED \"AS IS\", WITHOUT WARRANTY OF ANY KIND, EXPRESS OR\n",
    "IMPLIED, INCLUDING BUT NOT LIMITED TO THE WARRANTIES OF MERCHANTABILITY,\n",
    "FITNESS FOR A PARTICULAR PURPOSE AND NONINFRINGEMENT. IN NO EVENT SHALL THE\n",
    "AUTHORS OR COPYRIGHT HOLDERS BE LIABLE FOR ANY CLAIM, DAMAGES OR OTHER\n",
    "LIABILITY, WHETHER IN AN ACTION OF CONTRACT, TORT OR OTHERWISE, ARISING FROM,\n",
    "OUT OF OR IN CONNECTION WITH THE SOFTWARE OR THE USE OR OTHER DEALINGS IN THE\n",
    "SOFTWARE.\n",
    "<br>\n",
    "___\n",
    "Version 0.1.2"
   ]
  },
  {
   "cell_type": "markdown",
   "metadata": {},
   "source": [
    "## Grundlegende Einstellungen:\n",
    "\n",
    "Zunächst müssen die notwendigen Pakete (auch Module) importiert werden, damit auf diese zugegriffen werden kann. "
   ]
  },
  {
   "cell_type": "code",
   "execution_count": null,
   "metadata": {},
   "outputs": [],
   "source": [
    "import numpy as np # Programmbibliothek die eine einfache Handhabung von Vektoren, Matrizen oder generell großen mehrdimensionalen Arrays ermöglicht\n",
    "import matplotlib.pyplot as plt # Programmbibliothek die es erlaubt mathematische Darstellungen aller Art anzufertigen\n",
    "import math # Dieses Modul wird verwendet um Skalardaten zu berechnen, z. B. trigonometrische Berechnungen.\n",
    "import pylab as pl # Pylab kombiniert die Packete PyPlot und Numpy\n",
    "import pandas as pd # Programmbibliothek die Hilfsmittel für die Verwaltung von Daten und deren Analyse anbietet\n",
    "import scipy as sp # SciPy ist ein Python-basiertes Ökosystem für Open-Source-Software für Mathematik, Naturwissenschaften und Ingenieurwissenschaften\n",
    "from scipy import stats\n",
    "import datetime # Das datetime-Modul stellt Klassen bereit, mit denen Datums- und Uhrzeitangaben auf einfache und komplexe Weise bearbeitet werden können\n",
    "import operator # Programmbibliothek, welche die Ausgaben übersichtlicher gestaltet"
   ]
  },
  {
   "cell_type": "markdown",
   "metadata": {},
   "source": [
    "Anschließend werden Einstellungen definiert, die die Formatierung der Ausgaben betreffen.\n",
    "Hierfür wird das Modul `operator` genutzt.\n",
    "Außerdem wird die Breite des im Folgenden genutzten DataFrames erhöht und die Größe der Grafiken modifiziert, welche später angezeigt werden sollen."
   ]
  },
  {
   "cell_type": "code",
   "execution_count": null,
   "metadata": {},
   "outputs": [],
   "source": [
    "from IPython.core.display import display, HTML\n",
    "display(HTML(\"<style>.container { width:100% !important; }</style>\"))\n",
    "\n",
    "##########################################################################\n",
    "#-------------------------------------------------------------------------\n",
    "\n",
    "SCREEN_WIDTH = 125 # Länge Outputfenster\n",
    "SIZE = [15,10] # Größe Grafiken / Textgröße\n",
    "\n",
    "#-------------------------------------------------------------------------\n",
    "##########################################################################\n",
    "\n",
    "centered = operator.methodcaller('center', SCREEN_WIDTH)\n",
    "plt.rcParams[\"figure.figsize\"] = SIZE[0],SIZE[1] \n",
    "plt.rcParams.update({'font.size': SIZE[0]})"
   ]
  },
  {
   "cell_type": "markdown",
   "metadata": {},
   "source": [
    "## Aufgabe 1 - Payoff- und Gewinn-/Verlustfunktionen für Call- und Put-Optionen\n",
    "\n",
    "Variablenverzeichnis:\n",
    "- s = Preis der Aktie zum Fälligkeitsdatum\n",
    "- b = Ausübungspreis (Basispreis)\n",
    "- c = Options-Prämie für einen Call\n",
    "- p = Options-Prämie für einen Put\n",
    "\n",
    "### 1.1) Bestimmung des Payoffs einer Call-Option\n",
    "\n",
    "Annahme: Der Ausübungspreis (Basispreis) `b` beträgt 30 GE\n",
    "<br>\n",
    "1. Fall: Am Zeitpunkt `t` (Fälligkeit) beträgt der Preis der Aktie `s`=25 GE -> Option wird nicht ausgeübt, da die Aktie am Markt günstiger zu haben ist\n",
    "<br>\n",
    "1. Fall: Am Zeitpunkt `t` (Fälligkeit) beträgt der Preis der Aktie `s`=40 GE -> Option wird ausgeübt, da die Aktie am Markt teurer ist"
   ]
  },
  {
   "cell_type": "code",
   "execution_count": null,
   "metadata": {},
   "outputs": [],
   "source": [
    "# Definition der Funktion \"payoff_call\", welche den Payoff einer Call-Option betimmt\n",
    "def payoff_call(s, b):    \n",
    "    return (s - b + abs(s - b)) / 2\n",
    "\n",
    "# Definition der Funktion \"payoff_put\", welche den Payoff einer Put-Option betimmt\n",
    "def payoff_put(s, b):    \n",
    "    return (b - s - abs(s - b)) / 2\n",
    "\n",
    "# Anwendung der Funktion mit den Parametern s=25; s=40 und b=30 und Ausgabe des Ergebnisses\n",
    "print('#' + SCREEN_WIDTH * '-' + '#')\n",
    "print('|' + centered('Der Payoff einer Call-Option mit den Parametern s=25 und b=30 beträgt: %d' %payoff_call(25,30)) + '| ')\n",
    "print('|' + centered('Der Payoff einer Call-Option mit den Parametern s=40 und b=30 beträgt: %d' %payoff_call(40,30)) + '| ')\n",
    "print('#' + SCREEN_WIDTH * '-' + '#')\n",
    "print('|' + centered('Der Payoff einer Put-Option mit den Parametern s=25 und b=30 beträgt: %d' %payoff_put(25,30)) + '| ')\n",
    "print('|' + centered('Der Payoff einer Put-Option mit den Parametern s=40 und b=30 beträgt: %d' %payoff_put(40,30)) + '| ')\n",
    "print('#' + SCREEN_WIDTH * '-' + '#')"
   ]
  },
  {
   "cell_type": "markdown",
   "metadata": {},
   "source": [
    "### 1.2) Bestimmung des Payoffs einer Call-Option (Array)\n",
    "\n",
    "Der Aktienkurs `s` zum Zeitpunkt `t` kann auch ein Array sein, sodass statt einem Wert nun mehrere zurückgegeben werden."
   ]
  },
  {
   "cell_type": "code",
   "execution_count": null,
   "metadata": {},
   "outputs": [],
   "source": [
    "b = 20 # Ausübungspreis\n",
    "s = np.arange(10,50,10) # Array mit möglichen Preisen einer Aktie\n",
    "\n",
    "# Anwendung der Funktion mit den Parametern s=(10,20,30,40) und b=20 und Ausgabe des Ergebnisses\n",
    "print('#' + SCREEN_WIDTH * '-' + '#')\n",
    "print('|' + centered('Die Payoffs der Call-Option für s=' + str(s) + ' und b=20 betragen: ' + str(payoff_call(s,b))) + '| ')\n",
    "print('#' + SCREEN_WIDTH * '-' + '#')\n",
    "print('|' + centered('Die Payoffs der Put-Option für s=' + str(s) + ' und b=20 betragen: ' + str(payoff_put(s,b))) + '| ')\n",
    "print('#' + SCREEN_WIDTH * '-' + '#')"
   ]
  },
  {
   "cell_type": "markdown",
   "metadata": {},
   "source": [
    "### 1.3) Graphische Veranschaulichung des Payoffs einer Call-Option\n",
    "\n",
    "Auf Grundlage von 1.2) können die Payoffs der Call-Option auch graphisch veranschaulicht werden."
   ]
  },
  {
   "cell_type": "code",
   "execution_count": null,
   "metadata": {},
   "outputs": [],
   "source": [
    "b = 20 # Ausübungspreis\n",
    "s = np.arange(10,50,10) # Array mit möglichen Preisen einer Aktie\n",
    "\n",
    "payoff = (s - b + abs(s - b)) / 2 # Bestimmung des Payoffs für jedes Element im Array\n",
    "\n",
    "plt.ylim(-10, 25) # Grenzen der Y-Achse in der Grafik\n",
    "plt.axhline(0, color='black') # Plotten der X-Achse\n",
    "plt.plot(s, payoff) # Plotten der Payoff-Funktion (Call)\n",
    "plt.title('Payoff eines Calls mit Strike = %d' %b) # Titel der Grafik\n",
    "plt.xlabel('Preis der Aktie') # Bezeichung der X-Achse\n",
    "plt.ylabel('Payoff des Calls') # Bezeichnung der Y-Achse\n",
    "plt.grid() # Gitternetz\n",
    "plt.show() # Funktion zum anzeigen der Grafik"
   ]
  },
  {
   "cell_type": "markdown",
   "metadata": {},
   "source": [
    "### 1.4) Graphische Veranschaulichung der Gewinn-/Verlustfunktion eines Käufers/Verkäuferes einer Call-Option\n",
    "\n",
    "Die Payoffs von Käufer und Verkäufer derselben Call-Option verlaufen entgegengesetzt. \n",
    "Ist `b` bspw. 45 GE und `s`=50 GE, ergibt sich ein Payoff i.H.v. 5 GE. \n",
    "D.h. der Käufer der Call-Option verzeichnet einen Gewinn i.H.v. 5 GE und der Verkäufer der Call-Option erleidet einen Verlust in derselben Höhe.\n",
    "Von diesem Beträg ist anschließend noch die Optionsprämie `c`=2.5 GE zu subtrahieren."
   ]
  },
  {
   "cell_type": "code",
   "execution_count": null,
   "metadata": {},
   "outputs": [],
   "source": [
    "s = np.arange(30,70,5) # Array mit möglichen Preisen einer Aktie\n",
    "b = 45 # Ausübungspreis\n",
    "c = 2.5 # Options-Prämie für einen Call\n",
    "\n",
    "print('#' + SCREEN_WIDTH * '-' + '#')\n",
    "print('|' + centered('Die Netto-Payoffs für s=' + str(s) + ' und b=20 betragen: ' + str(payoff_call(s,b) - c) + ' (Long-Call)') + '| ')\n",
    "print('|' + centered('Bzw. für den Short-Call ' + str(payoff_put(s,b) + c)) + '| ')\n",
    "print('#' + SCREEN_WIDTH * '-' + '#')\n",
    "\n",
    "y = (abs(s - b) + s - b) / 2 - c # Bestimmung der Gewinn-/Verlustfunktion für jedes Element im Array\n",
    "\n",
    "plt.ylim(-30,35) # Grenzen der Y-Achse in der Grafik\n",
    "plt.plot(s,y) # Plotten der Gewinn-/Verlustfunktion für den Käufer der Call-Option\n",
    "plt.axhline(0, color='black') # Plotten der X-Achse\n",
    "plt.plot(s,-y) # Plotten der Gewinn-/Verlustfunktion für den Verkäufer der Call-Option\n",
    "plt.plot([b,b],[-30,3], ':') # Plotten der Geraden zur Markerierung des Ausübungspreises\n",
    "plt.title('Gewinn-/Verlustfunktion für eine Call-Option') # Titel der Grafik\n",
    "plt.xlabel('Preis der Aktie') # Bezeichung der X-Achse\n",
    "plt.ylabel('Gewinn/Verlust') # Bezeichnung der Y-Achse\n",
    "plt.grid() # Gitternetz\n",
    "plt.annotate('Käufer Call-Option', xy = (52.5,6.5), xytext=(52.5,14), arrowprops=dict(facecolor='blue', shrink=0.05)) # Beschriftung und Markeriung der Funktion mit einem Pfeil\n",
    "plt.annotate('Verkäufer Call-Option', xy = (52.5,-6.5), xytext=(52.5,-14), arrowprops=dict(facecolor='orange', shrink=0.05)) # Beschriftung und Markeriung der Funktion mit einem Pfeil\n",
    "plt.annotate('Ausübungspreis (Basispreis)= %d' %b, xy = (45,-30), xytext=(32.5,-22.5), arrowprops=dict(facecolor='green', shrink=0.05)) # Beschriftung und Markeriung der Funktion mit einem Pfeil\n",
    "plt.show() # Funktion zum anzeigen der Grafik"
   ]
  },
  {
   "cell_type": "markdown",
   "metadata": {},
   "source": [
    "### 1.5) Graphische Veranschaulichung der Gewinn-/Verlustfunktion eines Käufers/Verkäuferes einer Put-Option\n",
    "\n",
    "Analog lässt sich diesauch für eine Put-Option veranschaulichen."
   ]
  },
  {
   "cell_type": "code",
   "execution_count": null,
   "metadata": {},
   "outputs": [],
   "source": [
    "s = np.arange(30,70,5) # Array mit möglichen Preisen einer Aktie\n",
    "b = 45 # Ausübungspreis\n",
    "p = 2.5 # Options-Prämie\n",
    "\n",
    "y = (abs(b - s) + b - s) / 2 - p # Bestimmung der Gewinn-/Verlustfunktion für jedes Element im Array\n",
    "\n",
    "plt.ylim(-30,35) # Grenzen der Y-Achse in der Grafik\n",
    "plt.plot(s,y) # Plotten der Gewinn-/Verlustfunktion für den Käufer der Put-Option\n",
    "plt.axhline(0, color='black') # Plotten der X-Achse\n",
    "plt.plot(s,-y) # Plotten der Gewinn-/Verlustfunktion für den Verkäufer der Put-Option\n",
    "plt.plot([b,b],[-30,3], ':') # Plotten der Geraden zur Markerierung des Ausübungspreises\n",
    "plt.title('Gewinn-/Verlustfunktion für eine Put-Option') # Titel der Grafik \n",
    "plt.xlabel('Preis der Aktie') # Bezeichung der X-Achse\n",
    "plt.ylabel('Gewinn/Verlust')  # Bezeichnung der Y-Achse\n",
    "plt.annotate('Käufer Put-Option', xy = (32.5,12), xytext=(32.5,20.5), arrowprops=dict(facecolor='blue', shrink=0.05)) # Beschriftung und Markeriung der Funktion mit einem Pfeil\n",
    "plt.annotate('Verkäufer \\nPut-Option', xy = (32.5,-12), xytext=(32.5,-25), arrowprops=dict(facecolor='orange', shrink=0.05)) # Beschriftung und Markeriung der Funktion mit einem Pfeil \n",
    "plt.annotate('Ausübungspreis (Basispreis)= %d' %b, xy = (45,-30), xytext=(47.5,-22.5), arrowprops=dict(facecolor='green', shrink=0.05)) # Beschriftung und Markeriung der Funktion mit einem Pfeil\n",
    "plt.grid() # Gitternetz\n",
    "plt.show() # Funktion zum anzeigen der Grafik"
   ]
  },
  {
   "cell_type": "markdown",
   "metadata": {},
   "source": [
    "## Aufagbe 2 - Verschiedene Tradingstrategien"
   ]
  },
  {
   "cell_type": "markdown",
   "metadata": {},
   "source": [
    "Variablenverzeichnis:\n",
    "- c = Optionsprämie für einen Call\n",
    "- s = Preis der Aktie zum Fälligkeitsdatum\n",
    "- s0 = Aktueller Preis der Aktie\n",
    "- b = Ausübungspreis (Basispreis)\n",
    "- p = Options-Prämie für einen Put"
   ]
  },
  {
   "cell_type": "markdown",
   "metadata": {},
   "source": [
    "### 2.1) Gedeckter Call - Long-Position einer Aktie und Short-Position eines Calls\n",
    "\n",
    "In dieser Grafik sind die Positionen eines Aktienkaufs, eines gedeckten Calls und eines Calls zu sehen.\n",
    "Sofern der Preis der Aktie unter 17 GE bleibt (`b`=15 + `c`=2), ist der gedeckte Call dem Aktienkauf vorzuziehen."
   ]
  },
  {
   "cell_type": "code",
   "execution_count": null,
   "metadata": {},
   "outputs": [],
   "source": [
    "s = np.arange(0,40,5) # Array mit möglichen Preisen einer Aktie\n",
    "b = 15 # Ausübungspreis (Basispreis)\n",
    "s0 = 10 # Aktueller Preis der Aktie\n",
    "c = 2 # Optionsprämie\n",
    "\n",
    "y1 = s - s0 # Nur Aktienkauf\n",
    "y2 = (s - b + abs(s - b)) / 2 - c # Call\n",
    "y3 = y1 - y2 # Gedeckter Call\n",
    "\n",
    "plt.ylim(-10,30) # Grenzen der Y-Achse in der Grafik\n",
    "plt.plot(s,y1) # Plotten der Funktion für den alleinigen Aktienkauf\n",
    "plt.plot(s,y2) #  # Plotten der Funktion für den Call\n",
    "plt.plot(s,y3, color='red') # Plotten der Funktion für den gedeckten Call\n",
    "plt.axhline(0, color='black') # Plotten der X-Achse\n",
    "plt.plot([b,b],[-10,7.5], ':', color='green') # Plotten der Geraden zur Markerierung des Ausübungspreises\n",
    "plt.title('Gedeckter Call (Long-Position and short one call)') # Titel der Grafik \n",
    "plt.xlabel('Preis der Aktie') # Bezeichung der X-Achse\n",
    "plt.ylabel('Gewinn/Verlust') # Bezeichnung der Y-Achse\n",
    "plt.annotate('Nur Aktienkauf', xy = (24,15), xytext=(18,20), arrowprops=dict(facecolor='blue', shrink=0.05)) # Beschriftung und Markeriung der Funktion mit einem Pfeil\n",
    "plt.annotate('Gedeckter Call', xy = (10,2), xytext=(9,8), arrowprops=dict(facecolor='red', shrink=0.05)) # Beschriftung und Markeriung der Funktion mit einem Pfeil\n",
    "plt.annotate('Call', xy = (20,2), xytext=(19,-5), arrowprops=dict(facecolor='orange', shrink=0.05)) # Beschriftung und Markeriung der Funktion mit einem Pfeil\n",
    "plt.annotate('Ausübungspreis (Basispreis)= %d' %b, xy = (b + 0.2,-10 + 0.5), xytext=(17.5,-8.5), arrowprops=dict(facecolor='green', shrink=0.05)) # Beschriftung und Markeriung der Funktion mit einem Pfeil\n",
    "plt.grid() # Gitternetz\n",
    "plt.show() # Funktion zum anzeigen der Grafik"
   ]
  },
  {
   "cell_type": "markdown",
   "metadata": {},
   "source": [
    "### 2.2) Straddle - Kauf eines Calls und eines Puts mit demselben Ausübungspreis\n",
    "\n",
    "Bei einem Straddle erfolgt der Kauf eines Calls und eines Puts mit demselben Ausübungspreis.\n",
    "Anwendung findet diese Optionsstrategie bspw., wenn nicht abgeschätzt werden kann welche Auswirkungen (positiv oder negativ) ein zukünftiges Unternehmensereignis hat.\n",
    "Sofern sich der Preis der Aktie in eine beliebige Richtung bewegt, profitiert der Halter und erreicht den Break-Even-Point sobald die Auszahlung die Kosten der Optionsprämie `c` und `p` deckt."
   ]
  },
  {
   "cell_type": "code",
   "execution_count": null,
   "metadata": {},
   "outputs": [],
   "source": [
    "s = np.arange(30,80,5) # Array mit möglichen Preisen einer Aktie\n",
    "b = 50 # Ausübungspreis\n",
    "c = 2 # Optionsprämie für einen Call\n",
    "p = 1 # Optionsprämie für einen Put \n",
    "\n",
    "call = (abs(s - b) + s - b) / 2 - c # Call\n",
    "put = (abs(b - s) + b - s) / 2 - p # Put\n",
    "straddle = call + put # Straddle\n",
    "\n",
    "plt.xlim(40,70) # Grenzen der X-Achse in der Grafik\n",
    "plt.ylim(-6,20) # Grenzen der Y-Achse in der Grafik\n",
    "plt.axhline(0, color='black') # Plotten der X-Achse\n",
    "plt.plot(s,straddle,'r') # Plotten der Funktion für den Straddle\n",
    "plt.plot([b,b],[-6,0.5], ':', color='green') # Plotten der Geraden zur Markerierung des Ausübungspreises\n",
    "plt.title('Gewinn/Verlust-Funktion für einen Straddle') # Titel der Grafik \n",
    "plt.xlabel('Preis der Aktie') # Bezeichung der X-Achse\n",
    "plt.ylabel('Gewinn/Verlust') # Bezeichnung der Y-Achse\n",
    "plt.annotate('Punkt 1=' + str(b-c-p), xy = (b-p-c,0), xytext=(b-p-c,3), arrowprops=dict(facecolor='red', shrink=0.05)) # Beschriftung und Markeriung der Funktion mit einem Pfeil\n",
    "plt.annotate('Punkt 2=' + str(b+c+p), xy = (b+c+p,0), xytext=(b+c+p,4.5), arrowprops=dict(facecolor='blue', shrink=0.05)) # Beschriftung und Markeriung der Funktion mit einem Pfeil\n",
    "plt.annotate('Ausübungspreis (Basispreis)= %d' %b, xy = (50,-5), xytext=(51.5,-5), arrowprops=dict(facecolor='green', shrink=0.05)) # Beschriftung und Markeriung der Funktion mit einem Pfeil\n",
    "plt.grid() # Gitternetz\n",
    "plt.show() # Funktion zum anzeigen der Grafik"
   ]
  },
  {
   "cell_type": "markdown",
   "metadata": {},
   "source": [
    "### 2.3) Butterfly mit Calls\n",
    "\n",
    "Der Kauf zweier Calls mit den Ausübungspreisen `b1`=50 GE und `b3`=60 GE und der Verkauf zweier Calls mit dem Ausübungspreis `b2`=(`b1`+`b3`/2)=55 GE mit derselben Fälligkeit für dieselbe Aktie wird als Butterfly bezeichnet.\n",
    "Die jeweiligen Prämien des Calls lauten: `c1`=10 GE, `c2`=7 GE, `c3`=5 GE.\n",
    "Die Gewinn-/Verlustfunktion dieser Optionsstratiegie lässt sich wie folgt darstellen:"
   ]
  },
  {
   "cell_type": "code",
   "execution_count": null,
   "metadata": {},
   "outputs": [],
   "source": [
    "s = np.arange(30,80,5) # Array mit möglichen Preisen einer Aktie\n",
    "b1 = 50; c1 = 10 # Ausübungspreis 1, Optionsprämie für einen Call 1\n",
    "b2 = 55; c2 = 7 # Ausübungspreis 2, Optionsprämie für einen Call 2\n",
    "b3 = 60; c3 = 5 # Ausübungspreis 3, Optionsprämie für einen Call 3\n",
    "\n",
    "y1 = (abs(s - b1) + s - b1 ) / 2 - c1 # Call blau (Long)\n",
    "y2 = (abs(s - b2) + s - b2 ) / 2 - c2 # Call orange (Long)\n",
    "y3 = (abs(s - b3) + s - b3 ) / 2 - c3 # Call grün (Short)\n",
    "butterfly = y1 + y3 - 2 * y2 # Butterfly\n",
    "\n",
    "plt.xlim(40,70) # Grenzen der X-Achse in der Grafik\n",
    "plt.ylim(-20,20) # Grenzen der Y-Achse in der Grafik\n",
    "plt.axhline(0, color='black') # Plotten der X-Achse\n",
    "plt.plot(s,y1) # Plotten der Funktion für blauen Call\n",
    "plt.plot(s,-y2) # Plotten der Funktion für den orangenen Call\n",
    "plt.plot(s,y3) # Plotten der Funktion für den grünen Call \n",
    "plt.plot(s,butterfly,'r') # Plotten der Funktion für den Butterlfy\n",
    "plt.title('Gewinn-Verlust für einen Butterfly') # Titel der Grafik \n",
    "plt.xlabel('Preis der Aktie') # Bezeichung der X-Achse\n",
    "plt.ylabel('Gewinn/Verlust') # Bezeichnung der Y-Achse\n",
    "plt.annotate('Butterfly', xy = (56,3), xytext=(60,8), arrowprops=dict(facecolor='red', shrink=0.05)) # Beschriftung und Markeriung der Funktion mit einem Pfeil\n",
    "plt.grid() # Gitternetz\n",
    "plt.show() # Funktion zum anzeigen der Grafik"
   ]
  },
  {
   "cell_type": "markdown",
   "metadata": {},
   "source": [
    "## Aufgabe 3 - Put-Call-Parität und deren graphische Repräsentation\n",
    "\n",
    "Variablenverzeichnis:\n",
    "- b = Ausübungspreis (Basispreis)\n",
    "- s = Preis der Aktie zum Fälligkeitsdatum\n",
    "\n",
    "### 3.1) Berücksichtigung des Present Value\n",
    "\n",
    "Annahme: Es wird ein Call mit einem Ausübungspreis i.H.v. 20 GE und einer Fälligkeit von drei Monaten betrachtet.\n",
    "Der risikolose Zinssatz beträgt 5%, sodass sich der folgende Barwert ergbit:"
   ]
  },
  {
   "cell_type": "code",
   "execution_count": null,
   "metadata": {},
   "outputs": [],
   "source": [
    "b = 20\n",
    "b1 = b * math.exp(-0.05 * 3 / 12)\n",
    "b1 = round(b1,2)\n",
    "\n",
    "print('#' + SCREEN_WIDTH * '-' + '#')\n",
    "print('|' + centered('Der Present Value des Ausübungspreises i.H.v. %d' %b + ' beträgt: ' + str(b1)) + '| ')\n",
    "print('#' + SCREEN_WIDTH * '-' + '#')"
   ]
  },
  {
   "cell_type": "markdown",
   "metadata": {},
   "source": [
    "### -> 3.2) Graphische Veranschaulichung der Put-Call Parität"
   ]
  },
  {
   "cell_type": "code",
   "execution_count": null,
   "metadata": {},
   "outputs": [],
   "source": [
    "b = 10\n",
    "s = np.arange(0,30,5)\n",
    "\n",
    "payoff_call = (abs(s - b) + s - b) / 2\n",
    "payoff_put = (abs(b - s) + b - s) / 2 \n",
    "cash = np.zeros(len(s)) + b\n",
    "\n",
    "def graph(text, text2=''):\n",
    "    pl.xticks(())\n",
    "    pl.yticks(())\n",
    "    pl.xlim(0,30)\n",
    "    pl.ylim(0,20)\n",
    "    pl.plot([b,b],[0,3])\n",
    "    pl.text(b,-2,'X')\n",
    "    pl.text(0,b,'X')\n",
    "    pl.text(b,b * 1.7, text, ha='center', va='center', size=15, alpha=0.5)\n",
    "    pl.text(-5,10,text2,size=25)\n",
    "\n",
    "pl.subplot(2,3,1); graph('Payoff des Calls'); pl.plot(s, payoff_call)\n",
    "pl.subplot(2,3,2); graph('Cash', '+'); pl.plot(s, cash)\n",
    "pl.subplot(2,3,3); graph('Portfolio A ', '='); pl.plot(s, cash + payoff_call)\n",
    "pl.subplot(2,3,4); graph('Payoff des Puts'); pl.plot(s, payoff_put)\n",
    "pl.subplot(2,3,5); graph('Aktie', '+'); pl.plot(s, s)\n",
    "pl.subplot(2,3,6); graph('Portfolio B', '='); pl.plot(s, s + payoff_put)\n",
    "pl.show()"
   ]
  },
  {
   "cell_type": "markdown",
   "metadata": {},
   "source": [
    "## Aufagbe 4 - Implizite Volatilität"
   ]
  },
  {
   "cell_type": "markdown",
   "metadata": {},
   "source": [
    "Variablenverzeichnis:\n",
    "- s = Preis der Aktie zum Fälligkeitsdatum\n",
    "- b = Ausübungspreis (Basispreis)\n",
    "- t = Fälligkeit in Jahren\n",
    "- r = risikofreier Zinssatz\n",
    "- sigma = Volatilität der Aktie, (annualisierte Standardabweichung der Renditen)\n",
    "- c = Optionsprämie für einen Call\n",
    "- p = Options-Prämie für einen Put"
   ]
  },
  {
   "cell_type": "markdown",
   "metadata": {},
   "source": [
    "### 4.1) Schätzung des Preises einer europäischen Call-Option"
   ]
  },
  {
   "cell_type": "code",
   "execution_count": null,
   "metadata": {},
   "outputs": [],
   "source": [
    "def bs_call(s,b,t,r,sigma):\n",
    "    d1 = (math.log(s / b) + (r + sigma * sigma / 2.) * t ) / (sigma * math.sqrt(t))\n",
    "    d2 = d1 - sigma * math.sqrt(t)\n",
    "    return s * stats.norm.cdf(d1) - b * math.exp(-r * t) * stats.norm.cdf(d2)\n",
    "\n",
    "price = bs_call(40,40,0.5,0.05,0.25)\n",
    "\n",
    "print('#' + SCREEN_WIDTH * '-' + '#')\n",
    "print('|' + centered('Der Preis der europäischen Call-Option beträgt %f' %price) + '| ')\n",
    "print('#' + SCREEN_WIDTH * '-' + '#')"
   ]
  },
  {
   "cell_type": "markdown",
   "metadata": {},
   "source": [
    "### 4.2) Schätzung der impliziten Volatilität einer europäischen Call-Option bei sonst gegebenen Parametern\n",
    "#### Ansatz 1):"
   ]
  },
  {
   "cell_type": "code",
   "execution_count": null,
   "metadata": {},
   "outputs": [],
   "source": [
    "def implied_vol_calls(s,x,t,r,c):\n",
    "    for i in range(200):\n",
    "        sigma = 0.005 * (i + 1)\n",
    "        d1 = (math.log(s / x) + (r + sigma * sigma / 2.) * t ) / (sigma * math.sqrt(t))\n",
    "        d2 = d1 - sigma * math.sqrt(t)\n",
    "        diff = c - (s * stats.norm.cdf(d1) - x * math.exp(-r * t) * stats.norm.cdf(d2))\n",
    "        if abs(diff) <= 0.01:\n",
    "            return (i, sigma, diff)\n",
    "\n",
    "i, sigma, diff = implied_vol_calls(40,40,0.5,0.05,3.3)\n",
    "\n",
    "print('#' + SCREEN_WIDTH * '-' + '#')\n",
    "print('|' + centered('Iteration=%d' %i + ', Sigma=%f' %sigma + ', Differenz=%f' %diff) + '| ')\n",
    "print('#' + SCREEN_WIDTH * '-' + '#')"
   ]
  },
  {
   "cell_type": "markdown",
   "metadata": {},
   "source": [
    "#### Ansatz 2):"
   ]
  },
  {
   "cell_type": "code",
   "execution_count": null,
   "metadata": {},
   "outputs": [],
   "source": [
    "def implied_vol_put_min(s,x,t,r,p):\n",
    "    implied_vol = 1.0\n",
    "    min_value = 100.0\n",
    "\n",
    "    for i in range(1,10000):\n",
    "        sigma = 0.0001 * (i + 1)\n",
    "        d1 = (math.log(s / x) + (r + sigma * sigma / 2.) * t ) / (sigma * math.sqrt(t))\n",
    "        d2 = d1 - sigma * math.sqrt(t)\n",
    "        put = x * math.exp(-r * t) * stats.norm.cdf(-d2) - s * stats.norm.cdf(-d1)\n",
    "        abs_diff = abs(put - p)\n",
    "        if abs_diff < min_value:\n",
    "            min_value = abs_diff\n",
    "            implied_vol = sigma\n",
    "            k = i\n",
    "    put_out = put\n",
    "    return(k, implied_vol, put_out, min_value)\n",
    "\n",
    "k, implied_vol, put_out, min_value = implied_vol_put_min(40,40,1.,0.1,1.501)\n",
    "\n",
    "print('#' + SCREEN_WIDTH * '-' + '#')\n",
    "print('|' + centered('Iteration=%d' %k + ', Implizierte Volatilität=%f' %implied_vol + ', Put=%f' %put_out + ', Absolute Differenz=%f' %min_value) + '| ')\n",
    "print('#' + SCREEN_WIDTH * '-' + '#')"
   ]
  },
  {
   "cell_type": "markdown",
   "metadata": {},
   "source": [
    "## Aufagbe 5 - Volatility smile and skewness"
   ]
  },
  {
   "cell_type": "code",
   "execution_count": null,
   "metadata": {},
   "outputs": [],
   "source": [
    "data = pd.read_csv('calls17march.txt',\n",
    "                    delimiter='\\t',\n",
    "                    skiprows=1,\n",
    "                    usecols=['Strike','Implied Volatility'])\n",
    "\n",
    "x = data['Strike']\n",
    "y0 = list(data['Implied Volatility'])\n",
    "n = len(y0)\n",
    "y = []\n",
    "\n",
    "for i in np.arange(n):\n",
    "    a = float(y0[i].replace(\"%\",\"\")) / 100.0\n",
    "    y.append(a)\n",
    "\n",
    "plt.title('Volatility smile')\n",
    "plt.figtext(0.55,0.80,'IBM Calls')\n",
    "plt.figtext(0.55,0.75,'Fälligkeit: 3/17/2017')\n",
    "plt.ylabel('Volatilität')\n",
    "plt.xlabel('Preis des Strikes')\n",
    "plt.plot(x,y,'o')\n",
    "plt.grid() # Gitternetz\n",
    "plt.show()"
   ]
  },
  {
   "cell_type": "markdown",
   "metadata": {},
   "source": [
    "## Aufgabe 6 - Bepreisung von Derivaten"
   ]
  },
  {
   "cell_type": "code",
   "execution_count": null,
   "metadata": {},
   "outputs": [],
   "source": []
  },
  {
   "cell_type": "code",
   "execution_count": null,
   "metadata": {},
   "outputs": [],
   "source": []
  }
 ],
 "metadata": {
  "kernelspec": {
   "display_name": "Python 3",
   "language": "python",
   "name": "python3"
  },
  "language_info": {
   "codemirror_mode": {
    "name": "ipython",
    "version": 3
   },
   "file_extension": ".py",
   "mimetype": "text/x-python",
   "name": "python",
   "nbconvert_exporter": "python",
   "pygments_lexer": "ipython3",
   "version": "3.7.3"
  }
 },
 "nbformat": 4,
 "nbformat_minor": 2
}
